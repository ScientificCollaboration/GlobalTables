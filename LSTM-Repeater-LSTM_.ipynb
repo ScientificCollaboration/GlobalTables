{
 "cells": [
  {
   "cell_type": "code",
   "execution_count": 54,
   "metadata": {},
   "outputs": [
    {
     "name": "stderr",
     "output_type": "stream",
     "text": [
      "WARNING: Ignoring invalid distribution -umpy (d:\\anaconda3\\lib\\site-packages)\n",
      "WARNING: Ignoring invalid distribution -ip (d:\\anaconda3\\lib\\site-packages)\n",
      "WARNING: Ignoring invalid distribution -illow (d:\\anaconda3\\lib\\site-packages)\n",
      "WARNING: Ignoring invalid distribution - (d:\\anaconda3\\lib\\site-packages)\n",
      "WARNING: Ignoring invalid distribution -cipy (d:\\anaconda3\\lib\\site-packages)\n",
      "WARNING: Ignoring invalid distribution -atplotlib (d:\\anaconda3\\lib\\site-packages)\n",
      "ERROR: Invalid requirement: '=2.5.0'\n",
      "Hint: = is not a valid operator. Did you mean == ?\n",
      "WARNING: Ignoring invalid distribution -umpy (d:\\anaconda3\\lib\\site-packages)\n",
      "WARNING: Ignoring invalid distribution -ip (d:\\anaconda3\\lib\\site-packages)\n",
      "WARNING: Ignoring invalid distribution -illow (d:\\anaconda3\\lib\\site-packages)\n",
      "WARNING: Ignoring invalid distribution - (d:\\anaconda3\\lib\\site-packages)\n",
      "WARNING: Ignoring invalid distribution -cipy (d:\\anaconda3\\lib\\site-packages)\n",
      "WARNING: Ignoring invalid distribution -atplotlib (d:\\anaconda3\\lib\\site-packages)\n",
      "WARNING: Ignoring invalid distribution -umpy (d:\\anaconda3\\lib\\site-packages)\n",
      "WARNING: Ignoring invalid distribution -ip (d:\\anaconda3\\lib\\site-packages)\n",
      "WARNING: Ignoring invalid distribution -illow (d:\\anaconda3\\lib\\site-packages)\n",
      "WARNING: Ignoring invalid distribution - (d:\\anaconda3\\lib\\site-packages)\n",
      "WARNING: Ignoring invalid distribution -cipy (d:\\anaconda3\\lib\\site-packages)\n",
      "WARNING: Ignoring invalid distribution -atplotlib (d:\\anaconda3\\lib\\site-packages)\n"
     ]
    }
   ],
   "source": [
    "!pip install tensorflow =2.5.0"
   ]
  },
  {
   "cell_type": "code",
   "execution_count": 1,
   "metadata": {},
   "outputs": [
    {
     "name": "stdout",
     "output_type": "stream",
     "text": [
      "3.9.4\n"
     ]
    }
   ],
   "source": [
    "from platform import python_version\n",
    "\n",
    "print(python_version())"
   ]
  },
  {
   "cell_type": "code",
   "execution_count": 2,
   "metadata": {},
   "outputs": [
    {
     "name": "stdout",
     "output_type": "stream",
     "text": [
      "^C\n"
     ]
    }
   ],
   "source": [
    "\n"
   ]
  },
  {
   "cell_type": "code",
   "execution_count": 1,
   "metadata": {},
   "outputs": [
    {
     "name": "stdout",
     "output_type": "stream",
     "text": [
      "Tensorflow Version: 2.8.0\n",
      "Pandas Version: 1.4.0\n",
      "Numpy Version: 1.22.2\n",
      "System Version: 3.9.4 (default, Apr  9 2021, 11:43:21) [MSC v.1916 64 bit (AMD64)]\n",
      "tensorflow-addons: 3.9.4 (default, Apr  9 2021, 11:43:21) [MSC v.1916 64 bit (AMD64)]\n",
      "tfa-nightly: 3.9.4 (default, Apr  9 2021, 11:43:21) [MSC v.1916 64 bit (AMD64)]\n"
     ]
    }
   ],
   "source": [
    "import tensorflow as tf\n",
    "\n",
    "physical_devices = tf.config.list_physical_devices('GPU')\n",
    "tf.config.experimental.set_memory_growth(physical_devices[0], enable=True)\n",
    "from tensorflow.keras.callbacks import CSVLogger, EarlyStopping\n",
    "\n",
    "import matplotlib as mpl\n",
    "import matplotlib.pyplot as plt\n",
    "import numpy as np\n",
    "import os\n",
    "import pandas as pd\n",
    "import seaborn as sns\n",
    "import time\n",
    "import gc\n",
    "import sys\n",
    "\n",
    "print(f\"Tensorflow Version: {tf.__version__}\")\n",
    "print(f\"Pandas Version: {pd.__version__}\")\n",
    "print(f\"Numpy Version: {np.__version__}\")\n",
    "print(f\"System Version: {sys.version}\")\n",
    "print(f\"tensorflow-addons: {sys.version}\")\n",
    "print(f\"tfa-nightly: {sys.version}\")\n",
    "mpl.rcParams['figure.figsize'] = (17, 5)\n",
    "mpl.rcParams['axes.grid'] = False\n",
    "sns.set_style(\"whitegrid\")\n",
    "\n",
    "notebookstart= time.time()"
   ]
  },
  {
   "cell_type": "code",
   "execution_count": 2,
   "metadata": {},
   "outputs": [],
   "source": [
    "import numpy as np\n",
    "import pandas as pd\n",
    "from tensorflow.keras import layers\n",
    "from tensorflow.keras.optimizers import SGD\n",
    "from keras.models import Sequential\n",
    "#from keras.layers import Merge\n",
    "from keras.layers.convolutional import Convolution2D, MaxPooling2D, ZeroPadding2D\n",
    "from keras.layers.core import Dense, Activation, Dropout, Reshape, Flatten\n",
    "from keras.utils.np_utils import to_categorical"
   ]
  },
  {
   "cell_type": "code",
   "execution_count": 3,
   "metadata": {},
   "outputs": [],
   "source": [
    "data = pd.read_csv('df_north.csv')"
   ]
  },
  {
   "cell_type": "code",
   "execution_count": 4,
   "metadata": {},
   "outputs": [],
   "source": [
    "data = data.fillna(0)\n",
    "data.index = data['date']\n",
    "data = data.drop(columns=['date'])"
   ]
  },
  {
   "cell_type": "code",
   "execution_count": 5,
   "metadata": {
    "scrolled": true
   },
   "outputs": [
    {
     "data": {
      "text/html": [
       "<div>\n",
       "<style scoped>\n",
       "    .dataframe tbody tr th:only-of-type {\n",
       "        vertical-align: middle;\n",
       "    }\n",
       "\n",
       "    .dataframe tbody tr th {\n",
       "        vertical-align: top;\n",
       "    }\n",
       "\n",
       "    .dataframe thead th {\n",
       "        text-align: right;\n",
       "    }\n",
       "</style>\n",
       "<table border=\"1\" class=\"dataframe\">\n",
       "  <thead>\n",
       "    <tr style=\"text-align: right;\">\n",
       "      <th></th>\n",
       "      <th>Unnamed: 0</th>\n",
       "      <th>AKSH_227_liq_vol</th>\n",
       "      <th>AKSH_227_wc_vol</th>\n",
       "      <th>AKSH_227_bhp_fluid_level</th>\n",
       "      <th>AKSH_227_bhp_pump_press</th>\n",
       "      <th>AKSH_240_liq_vol</th>\n",
       "      <th>AKSH_240_wc_vol</th>\n",
       "      <th>AKSH_240_bhp_fluid_level</th>\n",
       "      <th>AKSH_240_bhp_pump_press</th>\n",
       "      <th>AKSH_307_liq_vol</th>\n",
       "      <th>...</th>\n",
       "      <th>AKSH_225_water_vol</th>\n",
       "      <th>AKSH_225_water_type</th>\n",
       "      <th>AKSH_220_water_vol</th>\n",
       "      <th>AKSH_220_water_type</th>\n",
       "      <th>AKSH_240_water_vol</th>\n",
       "      <th>AKSH_240_water_type</th>\n",
       "      <th>AKSH_217_water_vol</th>\n",
       "      <th>AKSH_217_water_type</th>\n",
       "      <th>AKSH_299_water_vol</th>\n",
       "      <th>AKSH_299_water_type</th>\n",
       "    </tr>\n",
       "    <tr>\n",
       "      <th>date</th>\n",
       "      <th></th>\n",
       "      <th></th>\n",
       "      <th></th>\n",
       "      <th></th>\n",
       "      <th></th>\n",
       "      <th></th>\n",
       "      <th></th>\n",
       "      <th></th>\n",
       "      <th></th>\n",
       "      <th></th>\n",
       "      <th></th>\n",
       "      <th></th>\n",
       "      <th></th>\n",
       "      <th></th>\n",
       "      <th></th>\n",
       "      <th></th>\n",
       "      <th></th>\n",
       "      <th></th>\n",
       "      <th></th>\n",
       "      <th></th>\n",
       "      <th></th>\n",
       "    </tr>\n",
       "  </thead>\n",
       "  <tbody>\n",
       "    <tr>\n",
       "      <th>2017-01-01</th>\n",
       "      <td>0</td>\n",
       "      <td>177.07000</td>\n",
       "      <td>90.021</td>\n",
       "      <td>0.0</td>\n",
       "      <td>0.0</td>\n",
       "      <td>0.0</td>\n",
       "      <td>0.0</td>\n",
       "      <td>0.0</td>\n",
       "      <td>0.0</td>\n",
       "      <td>0.0</td>\n",
       "      <td>...</td>\n",
       "      <td>213.0</td>\n",
       "      <td>Артезианская вода</td>\n",
       "      <td>94.0</td>\n",
       "      <td>Артезианская вода</td>\n",
       "      <td>0.0</td>\n",
       "      <td>0</td>\n",
       "      <td>289.0</td>\n",
       "      <td>Артезианская вода</td>\n",
       "      <td>0.0</td>\n",
       "      <td>0</td>\n",
       "    </tr>\n",
       "    <tr>\n",
       "      <th>2017-01-02</th>\n",
       "      <td>1</td>\n",
       "      <td>190.92374</td>\n",
       "      <td>90.014</td>\n",
       "      <td>0.0</td>\n",
       "      <td>0.0</td>\n",
       "      <td>0.0</td>\n",
       "      <td>0.0</td>\n",
       "      <td>0.0</td>\n",
       "      <td>0.0</td>\n",
       "      <td>0.0</td>\n",
       "      <td>...</td>\n",
       "      <td>202.0</td>\n",
       "      <td>Артезианская вода</td>\n",
       "      <td>94.0</td>\n",
       "      <td>Артезианская вода</td>\n",
       "      <td>0.0</td>\n",
       "      <td>0</td>\n",
       "      <td>287.0</td>\n",
       "      <td>Артезианская вода</td>\n",
       "      <td>0.0</td>\n",
       "      <td>0</td>\n",
       "    </tr>\n",
       "    <tr>\n",
       "      <th>2017-01-03</th>\n",
       "      <td>2</td>\n",
       "      <td>168.77000</td>\n",
       "      <td>90.004</td>\n",
       "      <td>0.0</td>\n",
       "      <td>0.0</td>\n",
       "      <td>0.0</td>\n",
       "      <td>0.0</td>\n",
       "      <td>0.0</td>\n",
       "      <td>0.0</td>\n",
       "      <td>0.0</td>\n",
       "      <td>...</td>\n",
       "      <td>219.0</td>\n",
       "      <td>Артезианская вода</td>\n",
       "      <td>93.0</td>\n",
       "      <td>Артезианская вода</td>\n",
       "      <td>0.0</td>\n",
       "      <td>0</td>\n",
       "      <td>286.0</td>\n",
       "      <td>Артезианская вода</td>\n",
       "      <td>0.0</td>\n",
       "      <td>0</td>\n",
       "    </tr>\n",
       "    <tr>\n",
       "      <th>2017-01-04</th>\n",
       "      <td>3</td>\n",
       "      <td>168.17172</td>\n",
       "      <td>89.975</td>\n",
       "      <td>0.0</td>\n",
       "      <td>0.0</td>\n",
       "      <td>0.0</td>\n",
       "      <td>0.0</td>\n",
       "      <td>0.0</td>\n",
       "      <td>0.0</td>\n",
       "      <td>0.0</td>\n",
       "      <td>...</td>\n",
       "      <td>205.0</td>\n",
       "      <td>Артезианская вода</td>\n",
       "      <td>94.0</td>\n",
       "      <td>Артезианская вода</td>\n",
       "      <td>0.0</td>\n",
       "      <td>0</td>\n",
       "      <td>287.0</td>\n",
       "      <td>Артезианская вода</td>\n",
       "      <td>0.0</td>\n",
       "      <td>0</td>\n",
       "    </tr>\n",
       "    <tr>\n",
       "      <th>2017-01-05</th>\n",
       "      <td>4</td>\n",
       "      <td>168.49000</td>\n",
       "      <td>85.999</td>\n",
       "      <td>0.0</td>\n",
       "      <td>0.0</td>\n",
       "      <td>0.0</td>\n",
       "      <td>0.0</td>\n",
       "      <td>0.0</td>\n",
       "      <td>0.0</td>\n",
       "      <td>0.0</td>\n",
       "      <td>...</td>\n",
       "      <td>214.0</td>\n",
       "      <td>Артезианская вода</td>\n",
       "      <td>94.0</td>\n",
       "      <td>Артезианская вода</td>\n",
       "      <td>0.0</td>\n",
       "      <td>0</td>\n",
       "      <td>286.0</td>\n",
       "      <td>Артезианская вода</td>\n",
       "      <td>0.0</td>\n",
       "      <td>0</td>\n",
       "    </tr>\n",
       "  </tbody>\n",
       "</table>\n",
       "<p>5 rows × 191 columns</p>\n",
       "</div>"
      ],
      "text/plain": [
       "            Unnamed: 0  AKSH_227_liq_vol  AKSH_227_wc_vol  \\\n",
       "date                                                        \n",
       "2017-01-01           0         177.07000           90.021   \n",
       "2017-01-02           1         190.92374           90.014   \n",
       "2017-01-03           2         168.77000           90.004   \n",
       "2017-01-04           3         168.17172           89.975   \n",
       "2017-01-05           4         168.49000           85.999   \n",
       "\n",
       "            AKSH_227_bhp_fluid_level  AKSH_227_bhp_pump_press  \\\n",
       "date                                                            \n",
       "2017-01-01                       0.0                      0.0   \n",
       "2017-01-02                       0.0                      0.0   \n",
       "2017-01-03                       0.0                      0.0   \n",
       "2017-01-04                       0.0                      0.0   \n",
       "2017-01-05                       0.0                      0.0   \n",
       "\n",
       "            AKSH_240_liq_vol  AKSH_240_wc_vol  AKSH_240_bhp_fluid_level  \\\n",
       "date                                                                      \n",
       "2017-01-01               0.0              0.0                       0.0   \n",
       "2017-01-02               0.0              0.0                       0.0   \n",
       "2017-01-03               0.0              0.0                       0.0   \n",
       "2017-01-04               0.0              0.0                       0.0   \n",
       "2017-01-05               0.0              0.0                       0.0   \n",
       "\n",
       "            AKSH_240_bhp_pump_press  AKSH_307_liq_vol  ...  \\\n",
       "date                                                   ...   \n",
       "2017-01-01                      0.0               0.0  ...   \n",
       "2017-01-02                      0.0               0.0  ...   \n",
       "2017-01-03                      0.0               0.0  ...   \n",
       "2017-01-04                      0.0               0.0  ...   \n",
       "2017-01-05                      0.0               0.0  ...   \n",
       "\n",
       "            AKSH_225_water_vol  AKSH_225_water_type  AKSH_220_water_vol  \\\n",
       "date                                                                      \n",
       "2017-01-01               213.0    Артезианская вода                94.0   \n",
       "2017-01-02               202.0    Артезианская вода                94.0   \n",
       "2017-01-03               219.0    Артезианская вода                93.0   \n",
       "2017-01-04               205.0    Артезианская вода                94.0   \n",
       "2017-01-05               214.0    Артезианская вода                94.0   \n",
       "\n",
       "            AKSH_220_water_type  AKSH_240_water_vol  AKSH_240_water_type  \\\n",
       "date                                                                       \n",
       "2017-01-01    Артезианская вода                 0.0                    0   \n",
       "2017-01-02    Артезианская вода                 0.0                    0   \n",
       "2017-01-03    Артезианская вода                 0.0                    0   \n",
       "2017-01-04    Артезианская вода                 0.0                    0   \n",
       "2017-01-05    Артезианская вода                 0.0                    0   \n",
       "\n",
       "            AKSH_217_water_vol  AKSH_217_water_type  AKSH_299_water_vol  \\\n",
       "date                                                                      \n",
       "2017-01-01               289.0    Артезианская вода                 0.0   \n",
       "2017-01-02               287.0    Артезианская вода                 0.0   \n",
       "2017-01-03               286.0    Артезианская вода                 0.0   \n",
       "2017-01-04               287.0    Артезианская вода                 0.0   \n",
       "2017-01-05               286.0    Артезианская вода                 0.0   \n",
       "\n",
       "            AKSH_299_water_type  \n",
       "date                             \n",
       "2017-01-01                    0  \n",
       "2017-01-02                    0  \n",
       "2017-01-03                    0  \n",
       "2017-01-04                    0  \n",
       "2017-01-05                    0  \n",
       "\n",
       "[5 rows x 191 columns]"
      ]
     },
     "execution_count": 5,
     "metadata": {},
     "output_type": "execute_result"
    }
   ],
   "source": [
    "data.head()"
   ]
  },
  {
   "cell_type": "code",
   "execution_count": 6,
   "metadata": {},
   "outputs": [],
   "source": [
    "data = data[(data.index > '2018-01-01')]"
   ]
  },
  {
   "cell_type": "code",
   "execution_count": 7,
   "metadata": {},
   "outputs": [],
   "source": [
    "watervol = ['AKSH_299_water_vol','AKSH_217_water_vol','AKSH_240_water_vol','AKSH_220_water_vol','AKSH_225_water_vol']"
   ]
  },
  {
   "cell_type": "code",
   "execution_count": 8,
   "metadata": {},
   "outputs": [],
   "source": [
    "datawc = data[watervol]"
   ]
  },
  {
   "cell_type": "code",
   "execution_count": 96,
   "metadata": {},
   "outputs": [],
   "source": [
    "features_considered_nort1 = ['AKSH_211_liq_vol','AKSH_344_liq_vol','AKSH_441_liq_vol','AKSH_244_liq_vol','AKSH_228_liq_vol']\n",
    "target_north = ['AKSH_211_liq_vol','AKSH_344_liq_vol','AKSH_441_liq_vol','AKSH_244_liq_vol','AKSH_228_liq_vol']\n",
    "features_considered_north2 = ['AKSH_211_bhp_pump_press','AKSH_344_bhp_pump_press','AKSH_441_bhp_pump_press','AKSH_244_bhp_pump_press','AKSH_228_bhp_pump_press']"
   ]
  },
  {
   "cell_type": "code",
   "execution_count": 97,
   "metadata": {},
   "outputs": [],
   "source": [
    "X_leftl1 = data['AKSH_211_bhp_pump_press']\n",
    "X_rightl1 = data['AKSH_299_water_vol']"
   ]
  },
  {
   "cell_type": "code",
   "execution_count": 98,
   "metadata": {},
   "outputs": [],
   "source": [
    "features_considered_north = ['AKSH_211_liq_vol','AKSH_344_liq_vol','AKSH_441_liq_vol','AKSH_244_liq_vol','AKSH_228_liq_vol','AKSH_211_bhp_pump_press','AKSH_344_bhp_pump_press','AKSH_441_bhp_pump_press','AKSH_244_bhp_pump_press','AKSH_228_bhp_pump_press']"
   ]
  },
  {
   "cell_type": "code",
   "execution_count": 99,
   "metadata": {},
   "outputs": [],
   "source": [
    "#features = data[features_considered]\n",
    "\n",
    "\n",
    "#features.head()\n"
   ]
  },
  {
   "cell_type": "code",
   "execution_count": 100,
   "metadata": {},
   "outputs": [],
   "source": [
    "#features_df = features.loc[(features.index >= '2018-01-01')]\n",
    "                    "
   ]
  },
  {
   "cell_type": "code",
   "execution_count": null,
   "metadata": {},
   "outputs": [],
   "source": []
  },
  {
   "cell_type": "code",
   "execution_count": 101,
   "metadata": {},
   "outputs": [],
   "source": [
    "#data['liq_vol'] = data.liq_vol.shift(-15)"
   ]
  },
  {
   "cell_type": "code",
   "execution_count": 102,
   "metadata": {},
   "outputs": [],
   "source": [
    "#data['AKSH_220'] = data.AKSH_220.shift(-15)"
   ]
  },
  {
   "cell_type": "code",
   "execution_count": 122,
   "metadata": {},
   "outputs": [
    {
     "name": "stdout",
     "output_type": "stream",
     "text": [
      "Tensorflow Version: 2.8.0\n",
      "Pandas Version: 1.4.0\n",
      "Numpy Version: 1.22.2\n",
      "System Version: 3.9.4 (default, Apr  9 2021, 11:43:21) [MSC v.1916 64 bit (AMD64)]\n"
     ]
    }
   ],
   "source": [
    "import tensorflow as tf\n",
    "\n",
    "from tensorflow.keras.callbacks import CSVLogger, EarlyStopping\n",
    "\n",
    "import matplotlib as mpl\n",
    "import matplotlib.pyplot as plt\n",
    "import numpy as np\n",
    "import os\n",
    "import pandas as pd\n",
    "import seaborn as sns\n",
    "import time\n",
    "import gc\n",
    "import sys\n",
    "\n",
    "print(f\"Tensorflow Version: {tf.__version__}\")\n",
    "print(f\"Pandas Version: {pd.__version__}\")\n",
    "print(f\"Numpy Version: {np.__version__}\")\n",
    "print(f\"System Version: {sys.version}\")\n",
    "\n",
    "mpl.rcParams['figure.figsize'] = (17, 5)\n",
    "mpl.rcParams['axes.grid'] = False\n",
    "sns.set_style(\"whitegrid\")\n",
    "\n",
    "notebookstart= time.time()"
   ]
  },
  {
   "cell_type": "code",
   "execution_count": 72,
   "metadata": {},
   "outputs": [],
   "source": [
    "import numpy as np\n",
    "import pandas as pd\n",
    "from tensorflow.keras import layers\n",
    "from tensorflow.keras.optimizers import SGD\n",
    "from keras.models import Sequential\n",
    "#from keras.layers import Merge\n",
    "from keras.layers.convolutional import Convolution2D, MaxPooling2D, ZeroPadding2D\n",
    "from keras.layers.core import Dense, Activation, Dropout, Reshape, Flatten\n",
    "from keras.utils.np_utils import to_categorical"
   ]
  },
  {
   "cell_type": "code",
   "execution_count": 73,
   "metadata": {},
   "outputs": [],
   "source": [
    "import tensorflow as tf\n",
    "import numpy\n",
    "import matplotlib as mpl\n",
    "import matplotlib.pyplot as plt\n",
    "import numpy as np\n",
    "import os\n",
    "import pandas as pd\n",
    "\n",
    "mpl.rcParams['figure.figsize'] = (8, 6)\n",
    "mpl.rcParams['axes.grid'] = False"
   ]
  },
  {
   "cell_type": "code",
   "execution_count": 74,
   "metadata": {},
   "outputs": [],
   "source": [
    "#data = pd.read_excel('oildatadc.xlsx')"
   ]
  },
  {
   "cell_type": "code",
   "execution_count": 75,
   "metadata": {},
   "outputs": [],
   "source": [
    "#features_considered = ['liq_vol','AKSH_214', 'AKSH_240','AKSH_220','AKSH_241','AKSH_221','AKSH_247','AKSH_217','AKSH_250','AKSH_424','AKSH_225','AKSH_249','AKSH_299']"
   ]
  },
  {
   "cell_type": "code",
   "execution_count": 76,
   "metadata": {},
   "outputs": [],
   "source": [
    "#features = data[features_considered]\n",
    "\n",
    "#features.index = data['date']\n",
    "\n",
    "#dataset = features \n",
    "\n",
    "#features.head()"
   ]
  },
  {
   "cell_type": "code",
   "execution_count": 77,
   "metadata": {},
   "outputs": [
    {
     "name": "stdout",
     "output_type": "stream",
     "text": [
      "Requirement already satisfied: sklearn in d:\\anaconda3\\envs\\r_env\\lib\\site-packages (0.0)\n",
      "Requirement already satisfied: scikit-learn in d:\\anaconda3\\envs\\r_env\\lib\\site-packages (from sklearn) (1.0.2)\n",
      "Requirement already satisfied: joblib>=0.11 in d:\\anaconda3\\envs\\r_env\\lib\\site-packages (from scikit-learn->sklearn) (1.1.0)\n",
      "Requirement already satisfied: threadpoolctl>=2.0.0 in d:\\anaconda3\\envs\\r_env\\lib\\site-packages (from scikit-learn->sklearn) (3.1.0)\n",
      "Requirement already satisfied: scipy>=1.1.0 in d:\\anaconda3\\envs\\r_env\\lib\\site-packages (from scikit-learn->sklearn) (1.8.0)\n",
      "Requirement already satisfied: numpy>=1.14.6 in d:\\anaconda3\\envs\\r_env\\lib\\site-packages (from scikit-learn->sklearn) (1.22.2)\n"
     ]
    }
   ],
   "source": [
    "!pip install sklearn"
   ]
  },
  {
   "cell_type": "code",
   "execution_count": 78,
   "metadata": {},
   "outputs": [],
   "source": [
    "from sklearn.model_selection import train_test_split\n",
    "#from sklearn.cross_validation import train_test_split"
   ]
  },
  {
   "cell_type": "code",
   "execution_count": 79,
   "metadata": {},
   "outputs": [],
   "source": [
    "TRAIN_SPLIT = 600"
   ]
  },
  {
   "cell_type": "code",
   "execution_count": 80,
   "metadata": {},
   "outputs": [
    {
     "name": "stdout",
     "output_type": "stream",
     "text": [
      "Requirement already satisfied: patsy in d:\\anaconda3\\envs\\r_env\\lib\\site-packages (0.5.2)\n",
      "Requirement already satisfied: six in d:\\anaconda3\\envs\\r_env\\lib\\site-packages (from patsy) (1.15.0)\n",
      "Requirement already satisfied: numpy>=1.4 in d:\\anaconda3\\envs\\r_env\\lib\\site-packages (from patsy) (1.22.2)\n"
     ]
    }
   ],
   "source": [
    "!pip install --upgrade patsy"
   ]
  },
  {
   "cell_type": "code",
   "execution_count": 81,
   "metadata": {},
   "outputs": [
    {
     "name": "stdout",
     "output_type": "stream",
     "text": [
      "Requirement already satisfied: statsmodels in d:\\anaconda3\\envs\\r_env\\lib\\site-packages (0.13.2)\n",
      "Requirement already satisfied: patsy>=0.5.2 in d:\\anaconda3\\envs\\r_env\\lib\\site-packages (from statsmodels) (0.5.2)\n",
      "Requirement already satisfied: pandas>=0.25 in d:\\anaconda3\\envs\\r_env\\lib\\site-packages (from statsmodels) (1.4.0)\n",
      "Requirement already satisfied: numpy>=1.17 in d:\\anaconda3\\envs\\r_env\\lib\\site-packages (from statsmodels) (1.22.2)\n",
      "Requirement already satisfied: packaging>=21.3 in d:\\anaconda3\\envs\\r_env\\lib\\site-packages (from statsmodels) (21.3)\n",
      "Requirement already satisfied: scipy>=1.3 in d:\\anaconda3\\envs\\r_env\\lib\\site-packages (from statsmodels) (1.8.0)\n",
      "Requirement already satisfied: pyparsing!=3.0.5,>=2.0.2 in d:\\anaconda3\\envs\\r_env\\lib\\site-packages (from packaging>=21.3->statsmodels) (2.4.7)\n",
      "Requirement already satisfied: python-dateutil>=2.8.1 in d:\\anaconda3\\envs\\r_env\\lib\\site-packages (from pandas>=0.25->statsmodels) (2.8.1)\n",
      "Requirement already satisfied: pytz>=2020.1 in d:\\anaconda3\\envs\\r_env\\lib\\site-packages (from pandas>=0.25->statsmodels) (2021.3)\n",
      "Requirement already satisfied: six in d:\\anaconda3\\envs\\r_env\\lib\\site-packages (from patsy>=0.5.2->statsmodels) (1.15.0)\n"
     ]
    }
   ],
   "source": [
    "!pip install statsmodels"
   ]
  },
  {
   "cell_type": "code",
   "execution_count": 82,
   "metadata": {},
   "outputs": [],
   "source": [
    "from numpy.random import seed\n",
    "from numpy.random import randn\n",
    "from statsmodels.graphics.gofplots import qqplot\n",
    "from matplotlib import pyplot\n",
    "from scipy import stats\n",
    "import matplotlib.pyplot as plt"
   ]
  },
  {
   "cell_type": "code",
   "execution_count": 83,
   "metadata": {},
   "outputs": [],
   "source": [
    "from tensorflow.keras.layers import *\n",
    "from tensorflow.keras.models import Sequential"
   ]
  },
  {
   "cell_type": "code",
   "execution_count": 84,
   "metadata": {},
   "outputs": [],
   "source": [
    "from tensorflow.keras.layers import BatchNormalization"
   ]
  },
  {
   "cell_type": "code",
   "execution_count": 85,
   "metadata": {},
   "outputs": [],
   "source": [
    "#watervol = ['AKSH_299_water_vol','AKSH_217_water_vol','AKSH_240_water_vol','AKSH_220_water_vol','AKSH_225_water_vol']"
   ]
  },
  {
   "cell_type": "code",
   "execution_count": 86,
   "metadata": {},
   "outputs": [],
   "source": [
    "#features2 = ['AKSH_299_water_vol','AKSH_217_water_vol','AKSH_240_water_vol','AKSH_220_water_vol','AKSH_225_water_vol']"
   ]
  },
  {
   "cell_type": "code",
   "execution_count": 87,
   "metadata": {},
   "outputs": [],
   "source": [
    "#X_left = X_left.shift(-15)"
   ]
  },
  {
   "cell_type": "markdown",
   "metadata": {},
   "source": [
    "# AKSH_211_liq_vol"
   ]
  },
  {
   "cell_type": "code",
   "execution_count": 104,
   "metadata": {},
   "outputs": [],
   "source": [
    "X_left = data[features_considered_north2]\n",
    "X_right = data[watervol]\n",
    "Y_train = data['AKSH_211_liq_vol']#,'AKSH_226_liq_vol'] \n",
    "\n",
    "\n",
    "X_leftl = X_left[(data.index < '2020-01-01')]\n",
    "X_rightl = X_right[(data.index < '2020-01-01')]\n",
    "Y_trainl = Y_train[(data.index < '2020-01-01')]#,'AKSH_226_liq_vol'] \n",
    "\n",
    "\n",
    "X_leftt = X_left[(data.index > '2020-01-01')]\n",
    "X_rightt = X_right[(data.index > '2020-01-01')]\n",
    "Y_traint = Y_train[(data.index > '2020-01-01')]#,'AKSH_226_liq_vol'] \n",
    "\n",
    "\n",
    "X_leftl1 = X_leftl1[(data.index < '2020-01-01')]\n",
    "X_rightl1 = X_rightl1[(data.index < '2020-01-01')]"
   ]
  },
  {
   "cell_type": "code",
   "execution_count": 55,
   "metadata": {},
   "outputs": [
    {
     "ename": "AttributeError",
     "evalue": "'numpy.ndarray' object has no attribute 'index'",
     "output_type": "error",
     "traceback": [
      "\u001b[1;31m---------------------------------------------------------------------------\u001b[0m",
      "\u001b[1;31mAttributeError\u001b[0m                            Traceback (most recent call last)",
      "\u001b[1;32m<ipython-input-55-774a2a9c8b8a>\u001b[0m in \u001b[0;36m<module>\u001b[1;34m\u001b[0m\n\u001b[1;32m----> 1\u001b[1;33m \u001b[0mdatadlearn\u001b[0m \u001b[1;33m=\u001b[0m \u001b[0mX_leftl\u001b[0m\u001b[1;33m.\u001b[0m\u001b[0mindex\u001b[0m\u001b[1;33m\u001b[0m\u001b[1;33m\u001b[0m\u001b[0m\n\u001b[0m\u001b[0;32m      2\u001b[0m \u001b[0mdatadtrain\u001b[0m \u001b[1;33m=\u001b[0m \u001b[0mX_leftt\u001b[0m\u001b[1;33m.\u001b[0m\u001b[0mindex\u001b[0m\u001b[1;33m\u001b[0m\u001b[1;33m\u001b[0m\u001b[0m\n",
      "\u001b[1;31mAttributeError\u001b[0m: 'numpy.ndarray' object has no attribute 'index'"
     ]
    }
   ],
   "source": [
    "datadlearn = X_leftl.index \n",
    "datadtrain = X_leftt.index "
   ]
  },
  {
   "cell_type": "code",
   "execution_count": 105,
   "metadata": {},
   "outputs": [],
   "source": [
    "X_left = np.asarray(X_left)\n",
    "X_right = np.asarray(X_right) \n",
    "Y_train = np.asarray(Y_train)\n",
    "X_leftl = np.asarray(X_leftl)\n",
    "X_rightl = np.asarray(X_rightl) \n",
    "Y_trainl = np.asarray(Y_trainl)\n",
    "X_leftt = np.asarray(X_leftt)\n",
    "X_rightt = np.asarray(X_rightt) \n",
    "Y_traint = np.asarray(Y_traint)"
   ]
  },
  {
   "cell_type": "code",
   "execution_count": 106,
   "metadata": {},
   "outputs": [],
   "source": [
    "X_leftl1 = np.asarray(X_leftl1) \n",
    "X_rightl1 = np.asarray(X_rightl1) \n"
   ]
  },
  {
   "cell_type": "code",
   "execution_count": 107,
   "metadata": {},
   "outputs": [],
   "source": [
    "X_left = data[features_considered_north2]\n",
    "X_right = data[watervol]\n",
    "Y_train = data['AKSH_211_liq_vol']#,'AKSH_226_liq_vol'] \n",
    "X_right = X_right.shift(-15)\n",
    "X_left = np.asarray(X_left)\n",
    "X_right = np.asarray(X_right) \n",
    "Y_train = np.asarray(Y_train) \n",
    "datadd = data.index \n",
    "datadd = datadd.to_numpy()\n",
    "#Y_train = data['AKSH_211_liq_vol']\n"
   ]
  },
  {
   "cell_type": "code",
   "execution_count": 108,
   "metadata": {},
   "outputs": [
    {
     "data": {
      "text/plain": [
       "(729,)"
      ]
     },
     "execution_count": 108,
     "metadata": {},
     "output_type": "execute_result"
    }
   ],
   "source": [
    "\n",
    "X_leftl1.shape"
   ]
  },
  {
   "cell_type": "code",
   "execution_count": 46,
   "metadata": {},
   "outputs": [],
   "source": [
    "#single_step_model.predict(X_left)"
   ]
  },
  {
   "cell_type": "markdown",
   "metadata": {},
   "source": [
    "# LSTM_LSTM_"
   ]
  },
  {
   "cell_type": "code",
   "execution_count": 109,
   "metadata": {},
   "outputs": [],
   "source": [
    "from tensorflow.keras import Sequential\n",
    "from tensorflow.keras.layers import LSTM, Dense, Dropout, TimeDistributed, Conv1D, MaxPooling1D, Flatten, Bidirectional, Input, Flatten, Activation, Reshape, RepeatVector, Concatenate\n",
    "from tensorflow.keras.models import Model\n",
    "from tensorflow.keras.utils import plot_model\n",
    "from tensorflow.keras.callbacks import EarlyStopping, ReduceLROnPlateau, ModelCheckpoint"
   ]
  },
  {
   "cell_type": "code",
   "execution_count": 118,
   "metadata": {},
   "outputs": [
    {
     "name": "stdout",
     "output_type": "stream",
     "text": [
      "WARNING:tensorflow:Layer lstm_34 will not use cuDNN kernels since it doesn't meet the criteria. It will use a generic GPU kernel as fallback when running on GPU.\n",
      "WARNING:tensorflow:Layer lstm_36 will not use cuDNN kernels since it doesn't meet the criteria. It will use a generic GPU kernel as fallback when running on GPU.\n",
      "Epoch 1/4\n"
     ]
    },
    {
     "ename": "UnknownError",
     "evalue": "Graph execution error:\n\nFail to find the dnn implementation.\n\t [[{{node CudnnRNN}}]]\n\t [[model_8/lstm_35/PartitionedCall]] [Op:__inference_train_function_36181]",
     "output_type": "error",
     "traceback": [
      "\u001b[1;31m---------------------------------------------------------------------------\u001b[0m",
      "\u001b[1;31mUnknownError\u001b[0m                              Traceback (most recent call last)",
      "\u001b[1;32m<ipython-input-118-92fe49fed2f9>\u001b[0m in \u001b[0;36m<module>\u001b[1;34m\u001b[0m\n\u001b[0;32m     79\u001b[0m \u001b[0mmodel\u001b[0m\u001b[1;33m.\u001b[0m\u001b[0mcompile\u001b[0m\u001b[1;33m(\u001b[0m\u001b[0moptimizer\u001b[0m\u001b[1;33m=\u001b[0m\u001b[1;34m'adam'\u001b[0m\u001b[1;33m,\u001b[0m \u001b[0mloss\u001b[0m\u001b[1;33m=\u001b[0m\u001b[1;34m'mape'\u001b[0m\u001b[1;33m,\u001b[0m \u001b[0mmetrics\u001b[0m\u001b[1;33m=\u001b[0m\u001b[1;33m[\u001b[0m\u001b[1;34m'accuracy'\u001b[0m\u001b[1;33m]\u001b[0m\u001b[1;33m)\u001b[0m\u001b[1;33m\u001b[0m\u001b[1;33m\u001b[0m\u001b[0m\n\u001b[0;32m     80\u001b[0m \u001b[1;31m# fit model\u001b[0m\u001b[1;33m\u001b[0m\u001b[1;33m\u001b[0m\u001b[1;33m\u001b[0m\u001b[0m\n\u001b[1;32m---> 81\u001b[1;33m \u001b[0mmodel\u001b[0m\u001b[1;33m.\u001b[0m\u001b[0mfit\u001b[0m\u001b[1;33m(\u001b[0m\u001b[1;33m[\u001b[0m\u001b[0mX1\u001b[0m\u001b[1;33m,\u001b[0m\u001b[0mX2\u001b[0m\u001b[1;33m]\u001b[0m\u001b[1;33m,\u001b[0m \u001b[0mY_trainl\u001b[0m\u001b[1;33m,\u001b[0m \u001b[0mepochs\u001b[0m\u001b[1;33m=\u001b[0m\u001b[1;36m4\u001b[0m\u001b[1;33m,\u001b[0m \u001b[0mverbose\u001b[0m\u001b[1;33m=\u001b[0m\u001b[1;36m1\u001b[0m\u001b[1;33m,\u001b[0m \u001b[0mbatch_size\u001b[0m\u001b[1;33m=\u001b[0m\u001b[1;36m1\u001b[0m\u001b[1;33m,\u001b[0m \u001b[0mvalidation_split\u001b[0m\u001b[1;33m=\u001b[0m\u001b[1;36m0.01\u001b[0m\u001b[1;33m)\u001b[0m\u001b[1;33m\u001b[0m\u001b[1;33m\u001b[0m\u001b[0m\n\u001b[0m\u001b[0;32m     82\u001b[0m \u001b[1;31m# demonstrate prediction\u001b[0m\u001b[1;33m\u001b[0m\u001b[1;33m\u001b[0m\u001b[1;33m\u001b[0m\u001b[0m\n\u001b[0;32m     83\u001b[0m \u001b[1;31m#x_input = array([[80, 85], [90, 95], [100, 105]])\u001b[0m\u001b[1;33m\u001b[0m\u001b[1;33m\u001b[0m\u001b[1;33m\u001b[0m\u001b[0m\n",
      "\u001b[1;32mD:\\anaconda3\\envs\\r_env\\lib\\site-packages\\keras\\utils\\traceback_utils.py\u001b[0m in \u001b[0;36merror_handler\u001b[1;34m(*args, **kwargs)\u001b[0m\n\u001b[0;32m     65\u001b[0m     \u001b[1;32mexcept\u001b[0m \u001b[0mException\u001b[0m \u001b[1;32mas\u001b[0m \u001b[0me\u001b[0m\u001b[1;33m:\u001b[0m  \u001b[1;31m# pylint: disable=broad-except\u001b[0m\u001b[1;33m\u001b[0m\u001b[1;33m\u001b[0m\u001b[0m\n\u001b[0;32m     66\u001b[0m       \u001b[0mfiltered_tb\u001b[0m \u001b[1;33m=\u001b[0m \u001b[0m_process_traceback_frames\u001b[0m\u001b[1;33m(\u001b[0m\u001b[0me\u001b[0m\u001b[1;33m.\u001b[0m\u001b[0m__traceback__\u001b[0m\u001b[1;33m)\u001b[0m\u001b[1;33m\u001b[0m\u001b[1;33m\u001b[0m\u001b[0m\n\u001b[1;32m---> 67\u001b[1;33m       \u001b[1;32mraise\u001b[0m \u001b[0me\u001b[0m\u001b[1;33m.\u001b[0m\u001b[0mwith_traceback\u001b[0m\u001b[1;33m(\u001b[0m\u001b[0mfiltered_tb\u001b[0m\u001b[1;33m)\u001b[0m \u001b[1;32mfrom\u001b[0m \u001b[1;32mNone\u001b[0m\u001b[1;33m\u001b[0m\u001b[1;33m\u001b[0m\u001b[0m\n\u001b[0m\u001b[0;32m     68\u001b[0m     \u001b[1;32mfinally\u001b[0m\u001b[1;33m:\u001b[0m\u001b[1;33m\u001b[0m\u001b[1;33m\u001b[0m\u001b[0m\n\u001b[0;32m     69\u001b[0m       \u001b[1;32mdel\u001b[0m \u001b[0mfiltered_tb\u001b[0m\u001b[1;33m\u001b[0m\u001b[1;33m\u001b[0m\u001b[0m\n",
      "\u001b[1;32mD:\\anaconda3\\envs\\r_env\\lib\\site-packages\\tensorflow\\python\\eager\\execute.py\u001b[0m in \u001b[0;36mquick_execute\u001b[1;34m(op_name, num_outputs, inputs, attrs, ctx, name)\u001b[0m\n\u001b[0;32m     52\u001b[0m   \u001b[1;32mtry\u001b[0m\u001b[1;33m:\u001b[0m\u001b[1;33m\u001b[0m\u001b[1;33m\u001b[0m\u001b[0m\n\u001b[0;32m     53\u001b[0m     \u001b[0mctx\u001b[0m\u001b[1;33m.\u001b[0m\u001b[0mensure_initialized\u001b[0m\u001b[1;33m(\u001b[0m\u001b[1;33m)\u001b[0m\u001b[1;33m\u001b[0m\u001b[1;33m\u001b[0m\u001b[0m\n\u001b[1;32m---> 54\u001b[1;33m     tensors = pywrap_tfe.TFE_Py_Execute(ctx._handle, device_name, op_name,\n\u001b[0m\u001b[0;32m     55\u001b[0m                                         inputs, attrs, num_outputs)\n\u001b[0;32m     56\u001b[0m   \u001b[1;32mexcept\u001b[0m \u001b[0mcore\u001b[0m\u001b[1;33m.\u001b[0m\u001b[0m_NotOkStatusException\u001b[0m \u001b[1;32mas\u001b[0m \u001b[0me\u001b[0m\u001b[1;33m:\u001b[0m\u001b[1;33m\u001b[0m\u001b[1;33m\u001b[0m\u001b[0m\n",
      "\u001b[1;31mUnknownError\u001b[0m: Graph execution error:\n\nFail to find the dnn implementation.\n\t [[{{node CudnnRNN}}]]\n\t [[model_8/lstm_35/PartitionedCall]] [Op:__inference_train_function_36181]"
     ]
    }
   ],
   "source": [
    "# multivariate mlp example\n",
    "from numpy import array\n",
    "from numpy import hstack\n",
    "from tensorflow.keras.models import Model\n",
    "from tensorflow.keras.layers import Input\n",
    "from tensorflow.keras.layers import Dense\n",
    "from keras.layers.merge import concatenate\n",
    "import tensorflow as tf\n",
    "import tensorflow_addons as tfa \n",
    "# split a multivariate sequence into samples\n",
    "def split_sequences(sequences, n_steps_in, n_steps_out):\n",
    "\tX, y = list(), list() # листы\n",
    "\tfor i in range(len(sequences)):\n",
    "\t\t# find the end of this pattern\n",
    "\t\tend_ix = i + n_steps_in # подваваемая последовательность\n",
    "\t\tout_end_ix = end_ix + n_steps_out # рекурсивный вывод\n",
    "\t\t# проверка на выход за пределы \n",
    "\t\tif out_end_ix > len(sequences):\n",
    "\t\t\tbreak\n",
    "\t\t# совмещение ввода и вывода  (общая последовательность)\n",
    "\t\tseq_x, seq_y = sequences[i:end_ix, :], sequences[end_ix:out_end_ix, :]\n",
    "\t\tX.append(seq_x)\n",
    "\t\ty.append(seq_y)\n",
    "\treturn array(X), array(y)\n",
    " \n",
    " \n",
    "# последовательность\n",
    "in_seq1 = X_leftl\n",
    "in_seq2 = X_rightl\n",
    "out_seq = Y_trainl # array([in_seq1[i]+in_seq2[i] for i in range(len(in_seq1))])\n",
    "# конвертация в формат колонок и рядов\n",
    "in_seq1 = in_seq1.reshape((len(in_seq1), 5)) # пять на одну\n",
    "in_seq2 = in_seq2.reshape((len(in_seq2), 5)) # пять на другую ветвь\n",
    "out_seq = out_seq.reshape((len(out_seq), 1))\n",
    "# горизонтальное последовательное размещение данных \n",
    "dataset = hstack((in_seq1, in_seq2, out_seq))\n",
    "# таймстепы\n",
    "# таймстепы\n",
    "n_features = 5\n",
    "\n",
    "n_steps_in, n_steps_out = 15, 1\n",
    "# convert into input/output\n",
    "X,y = split_sequences(dataset, n_steps_in, n_steps_out)\n",
    "n_features1 = 5\n",
    "n_features2 = 5\n",
    "# разделение данных \n",
    "X1 = X[:, :, :5]\n",
    "X2 = X[:, :, :5]\n",
    "# первая модель\n",
    "visible1 = Input(shape=(n_steps_in,n_features1),batch_size = 1) # формат данных\n",
    "\n",
    "visible1n = tfa.layers.GroupNormalization(1,-1,0.001,False)(visible1)\n",
    "dense1 = LSTM(n_steps_in, input_shape =(100,n_features1), stateful = True)(visible1n) # режим stateful для левой\n",
    "\n",
    "visible11 = (RepeatVector(n_steps_out))(dense1)\n",
    "\n",
    "visible21 = (LSTM(n_steps_in, activation='softplus',return_sequences=True))(visible11)\n",
    "visible31 = (TimeDistributed(Dense(n_features1)))(visible21)\n",
    "\n",
    "\n",
    "#,batch_input_shape=(32,100,1), stateful=True\n",
    "# вторая модель LSTM\n",
    "visible2 = Input(shape=(n_steps_in,n_features2))\n",
    "visible2n = tfa.layers.GroupNormalization(1,-1,0.001,False)(visible2)\n",
    "\n",
    "lstm = LSTM(n_steps_in, input_shape =(100,n_features2))(visible2n)\n",
    "\n",
    "visible12 = (RepeatVector(n_steps_out))(lstm)\n",
    "visible22 = (LSTM(n_steps_in, activation='softplus',return_sequences=True))(visible12)\n",
    "visible32 = (TimeDistributed(Dense(n_features2)))(visible22)\n",
    "\n",
    "\n",
    "#lstm2 = LSTM(10, input_shape =(100,1))(lstm)\n",
    "\n",
    "# слияние\n",
    "merge = concatenate([dense1, lstm])\n",
    "output = Dense(1)(merge) # можно другой ПРАВАЯ ВЕТВЬ ОТКЛЮЧЕНА\n",
    "model = Model(inputs=[visible1,visible2], outputs=output)\n",
    "model.compile(optimizer='adam', loss='mape', metrics=['accuracy'])\n",
    "# fit model\n",
    "model.fit([X1,X2], Y_trainl, epochs=4, verbose=1, batch_size=1, validation_split=0.01)\n",
    "# demonstrate prediction\n",
    "#x_input = array([[80, 85], [90, 95], [100, 105]])\n",
    "#x1 = x_input[:, 0].reshape((1, n_steps))\n",
    "#x2 = x_input[:, 1].reshape((1, n_steps))\n",
    "yhat = model.predict([X1,X2], verbose=0, batch_size=1)\n",
    "print(yhat)"
   ]
  },
  {
   "cell_type": "code",
   "execution_count": 45,
   "metadata": {},
   "outputs": [
    {
     "data": {
      "text/plain": [
       "<KerasTensor: shape=(None, 15) dtype=float32 (created by layer 'lstm_10')>"
      ]
     },
     "execution_count": 45,
     "metadata": {},
     "output_type": "execute_result"
    }
   ],
   "source": [
    "lstm "
   ]
  },
  {
   "cell_type": "markdown",
   "metadata": {},
   "source": [
    "# ГЕНЕРАТОР ПРОГНОЗА ДЛЯ 5-5 МЕРНЫХ ВХОДОВ"
   ]
  },
  {
   "cell_type": "code",
   "execution_count": null,
   "metadata": {},
   "outputs": [],
   "source": []
  },
  {
   "cell_type": "code",
   "execution_count": null,
   "metadata": {},
   "outputs": [],
   "source": [
    "# multivariate mlp example\n",
    "from numpy import array\n",
    "from numpy import hstack\n",
    "from keras.models import Model\n",
    "from keras.layers import Input\n",
    "from keras.layers import Dense\n",
    "from keras.layers.merge import concatenate\n",
    " \n",
    "# разбиение выборки на шаги рекурсии\n",
    "def split_sequences(sequences, n_steps_in, n_steps_out):\n",
    "\tX, y = list(), list() # объявление пустых списков\n",
    "\tfor i in range(len(sequences)):\n",
    "\t\t# find the end of this pattern\n",
    "\t\tend_ix = i + n_steps_in # входные окна истории\n",
    "\t\tout_end_ix = end_ix + n_steps_out # прогнозируемые шаги\n",
    "\t\t# check if we are beyond the dataset\n",
    "\t\tif out_end_ix > len(sequences): # проверка на длину\n",
    "\t\t\tbreak\n",
    "\t\t# gather input and output parts of the pattern\n",
    "\t\tseq_x, seq_y = sequences[i:end_ix, :], sequences[end_ix:out_end_ix, :] \n",
    "\t\tX.append(seq_x)\n",
    "\t\ty.append(seq_y)\n",
    "\treturn array(X), array(y)\n",
    " \n",
    "# последовательность\n",
    "in_seq1 = X_leftt\n",
    "in_seq2 = X_rightt\n",
    "out_seq = Y_traint # array([in_seq1[i]+in_seq2[i] for i in range(len(in_seq1))])\n",
    "# конвертация в формат колонок и рядов\n",
    "in_seq1 = in_seq1.reshape((len(in_seq1), 5,))\n",
    "#in_seq2 = in_seq2.reshape((len(in_seq2), 5,))\n",
    "out_seq = out_seq.reshape((len(out_seq), 1,))\n",
    "# горизонтальное последовательное размещение данных \n",
    "dataset = hstack((in_seq1, out_seq))\n",
    "# таймстепы\n",
    "# таймстепы\n",
    "n_steps_in, n_steps_out = 15, 2 # 15 окно 2 дня прогноз\n",
    "# convert into input/output\n",
    "X,y = split_sequences(dataset, n_steps_in, n_steps_out)\n",
    "\n",
    "\n",
    "\n",
    "# разделение данных \n",
    "X1 = X[:, :, :5]\n",
    "#X2 = X[:, :, :5]\n",
    "# первая модель\n",
    "\n",
    "yhat = model.predict([X1],batch_size=1, verbose=0)\n",
    "print(yhat)"
   ]
  },
  {
   "cell_type": "code",
   "execution_count": 50,
   "metadata": {},
   "outputs": [
    {
     "data": {
      "text/plain": [
       "(119,)"
      ]
     },
     "execution_count": 50,
     "metadata": {},
     "output_type": "execute_result"
    }
   ],
   "source": [
    "yhat.shape"
   ]
  },
  {
   "cell_type": "code",
   "execution_count": 51,
   "metadata": {},
   "outputs": [
    {
     "data": {
      "text/plain": [
       "<AxesSubplot:>"
      ]
     },
     "execution_count": 51,
     "metadata": {},
     "output_type": "execute_result"
    },
    {
     "data": {
      "image/png": "[encoded data removed]",
      "text/plain": [
       "<Figure size 576x432 with 2 Axes>"
      ]
     },
     "metadata": {},
     "output_type": "display_data"
    }
   ],
   "source": [
    "yhat = yhat.flatten() \n",
    "Y_traint = Y_traint.flatten()\n",
    "Y_traint4 = Y_traint[0:119]\n",
    "datadt4 = datadtrain[0:119]\n",
    "import pandas as pd\n",
    "\n",
    "df = pd.DataFrame(data={'year': datadt4, \n",
    "                        'predict': yhat, \n",
    "                        'fact': Y_traint4})\n",
    "import matplotlib.pyplot as plt # Impot the relevant module\n",
    "\n",
    "fig, ax = plt.subplots() # Create the figure and axes object\n",
    "\n",
    "# Plot the first x and y axes:\n",
    "df.plot(x = 'year', y = 'predict',title = \"WELL AKSH_211\", ax = ax) \n",
    "# Plot the second x and y axes. By secondary_y = True a second y-axis is requested:\n",
    "# (see https://pandas.pydata.org/pandas-docs/stable/reference/api/pandas.DataFrame.plot.html for details)\n",
    "df.plot(x = 'year', y = 'fact', ax = ax, secondary_y = True)\n",
    "#df.plot(label=\"test1\")"
   ]
  },
  {
   "cell_type": "code",
   "execution_count": 52,
   "metadata": {},
   "outputs": [
    {
     "data": {
      "text/plain": [
       "-0.028617223212342724"
      ]
     },
     "execution_count": 52,
     "metadata": {},
     "output_type": "execute_result"
    }
   ],
   "source": [
    "from sklearn.metrics import r2_score\n",
    "r2_score(Y_traint4, yhat)"
   ]
  },
  {
   "cell_type": "code",
   "execution_count": 53,
   "metadata": {},
   "outputs": [
    {
     "data": {
      "text/plain": [
       "0.09795649577620272"
      ]
     },
     "execution_count": 53,
     "metadata": {},
     "output_type": "execute_result"
    }
   ],
   "source": [
    "from sklearn.metrics import mean_absolute_percentage_error\n",
    "\n",
    "mean_absolute_percentage_error(Y_traint4, yhat)"
   ]
  },
  {
   "cell_type": "code",
   "execution_count": 54,
   "metadata": {},
   "outputs": [
    {
     "data": {
      "text/plain": [
       "4.504303065929369"
      ]
     },
     "execution_count": 54,
     "metadata": {},
     "output_type": "execute_result"
    }
   ],
   "source": [
    "from sklearn.metrics import mean_squared_error\n",
    "mean_squared_error(Y_traint4, yhat, squared=False)"
   ]
  },
  {
   "cell_type": "code",
   "execution_count": 55,
   "metadata": {},
   "outputs": [
    {
     "data": {
      "text/plain": [
       "4.504303065929369"
      ]
     },
     "execution_count": 55,
     "metadata": {},
     "output_type": "execute_result"
    }
   ],
   "source": [
    "from sklearn.metrics import mean_squared_error\n",
    "mean_squared_error(Y_traint4, yhat, squared=False)"
   ]
  },
  {
   "cell_type": "code",
   "execution_count": 56,
   "metadata": {},
   "outputs": [
    {
     "data": {
      "text/plain": [
       "3.401838486434808"
      ]
     },
     "execution_count": 56,
     "metadata": {},
     "output_type": "execute_result"
    }
   ],
   "source": [
    "from sklearn.metrics import mean_absolute_error\n",
    "mean_absolute_error(Y_traint4, yhat)"
   ]
  },
  {
   "cell_type": "code",
   "execution_count": null,
   "metadata": {},
   "outputs": [],
   "source": []
  },
  {
   "cell_type": "markdown",
   "metadata": {},
   "source": [
    "# РАЗМЕРНОСТЬ 1-1"
   ]
  },
  {
   "cell_type": "code",
   "execution_count": null,
   "metadata": {},
   "outputs": [],
   "source": []
  },
  {
   "cell_type": "code",
   "execution_count": null,
   "metadata": {},
   "outputs": [],
   "source": []
  },
  {
   "cell_type": "code",
   "execution_count": 112,
   "metadata": {},
   "outputs": [
    {
     "name": "stdout",
     "output_type": "stream",
     "text": [
      "WARNING:tensorflow:Layer lstm_22 will not use cuDNN kernels since it doesn't meet the criteria. It will use a generic GPU kernel as fallback when running on GPU.\n",
      "WARNING:tensorflow:Layer lstm_24 will not use cuDNN kernels since it doesn't meet the criteria. It will use a generic GPU kernel as fallback when running on GPU.\n",
      "Epoch 1/10\n"
     ]
    },
    {
     "ename": "UnknownError",
     "evalue": "Graph execution error:\n\nFail to find the dnn implementation.\n\t [[{{node CudnnRNN}}]]\n\t [[model_5/lstm_23/PartitionedCall]] [Op:__inference_train_function_21007]",
     "output_type": "error",
     "traceback": [
      "\u001b[1;31m---------------------------------------------------------------------------\u001b[0m",
      "\u001b[1;31mUnknownError\u001b[0m                              Traceback (most recent call last)",
      "\u001b[1;32m<ipython-input-112-a2f94b017405>\u001b[0m in \u001b[0;36m<module>\u001b[1;34m\u001b[0m\n\u001b[0;32m     77\u001b[0m \u001b[0mmodel\u001b[0m\u001b[1;33m.\u001b[0m\u001b[0mcompile\u001b[0m\u001b[1;33m(\u001b[0m\u001b[0moptimizer\u001b[0m\u001b[1;33m=\u001b[0m\u001b[1;34m'adam'\u001b[0m\u001b[1;33m,\u001b[0m \u001b[0mloss\u001b[0m\u001b[1;33m=\u001b[0m\u001b[1;34m'mape'\u001b[0m\u001b[1;33m,\u001b[0m \u001b[0mmetrics\u001b[0m\u001b[1;33m=\u001b[0m\u001b[1;33m[\u001b[0m\u001b[1;34m'accuracy'\u001b[0m\u001b[1;33m]\u001b[0m\u001b[1;33m)\u001b[0m\u001b[1;33m\u001b[0m\u001b[1;33m\u001b[0m\u001b[0m\n\u001b[0;32m     78\u001b[0m \u001b[1;31m# fit model\u001b[0m\u001b[1;33m\u001b[0m\u001b[1;33m\u001b[0m\u001b[1;33m\u001b[0m\u001b[0m\n\u001b[1;32m---> 79\u001b[1;33m \u001b[0mmodel\u001b[0m\u001b[1;33m.\u001b[0m\u001b[0mfit\u001b[0m\u001b[1;33m(\u001b[0m\u001b[1;33m[\u001b[0m\u001b[0mX1\u001b[0m\u001b[1;33m,\u001b[0m \u001b[0mX2\u001b[0m\u001b[1;33m]\u001b[0m\u001b[1;33m,\u001b[0m \u001b[0mY_trainl\u001b[0m\u001b[1;33m,\u001b[0m \u001b[0mepochs\u001b[0m\u001b[1;33m=\u001b[0m\u001b[1;36m10\u001b[0m\u001b[1;33m,\u001b[0m \u001b[0mverbose\u001b[0m\u001b[1;33m=\u001b[0m\u001b[1;36m1\u001b[0m\u001b[1;33m,\u001b[0m \u001b[0mbatch_size\u001b[0m\u001b[1;33m=\u001b[0m\u001b[1;36m64\u001b[0m\u001b[1;33m,\u001b[0m \u001b[0mvalidation_split\u001b[0m\u001b[1;33m=\u001b[0m\u001b[1;36m0.01\u001b[0m\u001b[1;33m)\u001b[0m\u001b[1;33m\u001b[0m\u001b[1;33m\u001b[0m\u001b[0m\n\u001b[0m\u001b[0;32m     80\u001b[0m \u001b[1;31m# demonstrate prediction\u001b[0m\u001b[1;33m\u001b[0m\u001b[1;33m\u001b[0m\u001b[1;33m\u001b[0m\u001b[0m\n\u001b[0;32m     81\u001b[0m \u001b[1;31m#x_input = array([[80, 85], [90, 95], [100, 105]])\u001b[0m\u001b[1;33m\u001b[0m\u001b[1;33m\u001b[0m\u001b[1;33m\u001b[0m\u001b[0m\n",
      "\u001b[1;32mD:\\anaconda3\\envs\\r_env\\lib\\site-packages\\keras\\utils\\traceback_utils.py\u001b[0m in \u001b[0;36merror_handler\u001b[1;34m(*args, **kwargs)\u001b[0m\n\u001b[0;32m     65\u001b[0m     \u001b[1;32mexcept\u001b[0m \u001b[0mException\u001b[0m \u001b[1;32mas\u001b[0m \u001b[0me\u001b[0m\u001b[1;33m:\u001b[0m  \u001b[1;31m# pylint: disable=broad-except\u001b[0m\u001b[1;33m\u001b[0m\u001b[1;33m\u001b[0m\u001b[0m\n\u001b[0;32m     66\u001b[0m       \u001b[0mfiltered_tb\u001b[0m \u001b[1;33m=\u001b[0m \u001b[0m_process_traceback_frames\u001b[0m\u001b[1;33m(\u001b[0m\u001b[0me\u001b[0m\u001b[1;33m.\u001b[0m\u001b[0m__traceback__\u001b[0m\u001b[1;33m)\u001b[0m\u001b[1;33m\u001b[0m\u001b[1;33m\u001b[0m\u001b[0m\n\u001b[1;32m---> 67\u001b[1;33m       \u001b[1;32mraise\u001b[0m \u001b[0me\u001b[0m\u001b[1;33m.\u001b[0m\u001b[0mwith_traceback\u001b[0m\u001b[1;33m(\u001b[0m\u001b[0mfiltered_tb\u001b[0m\u001b[1;33m)\u001b[0m \u001b[1;32mfrom\u001b[0m \u001b[1;32mNone\u001b[0m\u001b[1;33m\u001b[0m\u001b[1;33m\u001b[0m\u001b[0m\n\u001b[0m\u001b[0;32m     68\u001b[0m     \u001b[1;32mfinally\u001b[0m\u001b[1;33m:\u001b[0m\u001b[1;33m\u001b[0m\u001b[1;33m\u001b[0m\u001b[0m\n\u001b[0;32m     69\u001b[0m       \u001b[1;32mdel\u001b[0m \u001b[0mfiltered_tb\u001b[0m\u001b[1;33m\u001b[0m\u001b[1;33m\u001b[0m\u001b[0m\n",
      "\u001b[1;32mD:\\anaconda3\\envs\\r_env\\lib\\site-packages\\tensorflow\\python\\eager\\execute.py\u001b[0m in \u001b[0;36mquick_execute\u001b[1;34m(op_name, num_outputs, inputs, attrs, ctx, name)\u001b[0m\n\u001b[0;32m     52\u001b[0m   \u001b[1;32mtry\u001b[0m\u001b[1;33m:\u001b[0m\u001b[1;33m\u001b[0m\u001b[1;33m\u001b[0m\u001b[0m\n\u001b[0;32m     53\u001b[0m     \u001b[0mctx\u001b[0m\u001b[1;33m.\u001b[0m\u001b[0mensure_initialized\u001b[0m\u001b[1;33m(\u001b[0m\u001b[1;33m)\u001b[0m\u001b[1;33m\u001b[0m\u001b[1;33m\u001b[0m\u001b[0m\n\u001b[1;32m---> 54\u001b[1;33m     tensors = pywrap_tfe.TFE_Py_Execute(ctx._handle, device_name, op_name,\n\u001b[0m\u001b[0;32m     55\u001b[0m                                         inputs, attrs, num_outputs)\n\u001b[0;32m     56\u001b[0m   \u001b[1;32mexcept\u001b[0m \u001b[0mcore\u001b[0m\u001b[1;33m.\u001b[0m\u001b[0m_NotOkStatusException\u001b[0m \u001b[1;32mas\u001b[0m \u001b[0me\u001b[0m\u001b[1;33m:\u001b[0m\u001b[1;33m\u001b[0m\u001b[1;33m\u001b[0m\u001b[0m\n",
      "\u001b[1;31mUnknownError\u001b[0m: Graph execution error:\n\nFail to find the dnn implementation.\n\t [[{{node CudnnRNN}}]]\n\t [[model_5/lstm_23/PartitionedCall]] [Op:__inference_train_function_21007]"
     ]
    }
   ],
   "source": [
    "# multivariate mlp example\n",
    "from numpy import array\n",
    "from numpy import hstack\n",
    "from keras.models import Model\n",
    "from keras.layers import Input\n",
    "from keras.layers import Dense\n",
    "from keras.layers.merge import concatenate\n",
    " \n",
    "# split a multivariate sequence into samples\n",
    "def split_sequences(sequences, n_steps_in, n_steps_out):\n",
    "\tX, y = list(), list()\n",
    "\tfor i in range(len(sequences)):\n",
    "\t\t# find the end of this pattern\n",
    "\t\tend_ix = i + n_steps_in\n",
    "\t\tout_end_ix = end_ix + n_steps_out\n",
    "\t\t# check if we are beyond the dataset\n",
    "\t\tif out_end_ix > len(sequences):\n",
    "\t\t\tbreak\n",
    "\t\t# gather input and output parts of the pattern\n",
    "\t\tseq_x, seq_y = sequences[i:end_ix, :], sequences[end_ix:out_end_ix, :]\n",
    "\t\tX.append(seq_x)\n",
    "\t\ty.append(seq_y)\n",
    "\treturn array(X), array(y)\n",
    " \n",
    " \n",
    "# последовательность\n",
    "in_seq1 = X_leftl1\n",
    "in_seq2 = X_rightl1\n",
    "out_seq = Y_trainl # array([in_seq1[i]+in_seq2[i] for i in range(len(in_seq1))])\n",
    "# конвертация в формат колонок и рядов\n",
    "in_seq1 = in_seq1.reshape((len(in_seq1), 1))\n",
    "in_seq2 = in_seq2.reshape((len(in_seq2), 1))\n",
    "out_seq = out_seq.reshape((len(out_seq), 1))\n",
    "# горизонтальное последовательное размещение данных \n",
    "dataset = hstack((in_seq1, in_seq2, out_seq))\n",
    "# таймстепы\n",
    "# таймстепы\n",
    "n_steps_in, n_steps_out = 15, 1\n",
    "# convert into input/output\n",
    "\n",
    "n_features = 1\n",
    "\n",
    "\n",
    "X,y = split_sequences(dataset, n_steps_in, n_steps_out)\n",
    "n_features1 = 1\n",
    "n_features2 = 1\n",
    "# разделение данных \n",
    "X1 = X[:, :, 1]\n",
    "X2 = X[:, :, 0]\n",
    "# первая модель\n",
    "visible1 = Input(shape=(n_steps_in,n_features1))\n",
    "regul = tf.keras.layers.ActivityRegularization(l1=0.1, l2=0.1,input_shape=(n_steps_in,n_features1))(visible1)\n",
    "dense1 = LSTM(100, input_shape =(100,n_features1))(regul)\n",
    "\n",
    "visible11 = (RepeatVector(n_steps_out))(dense1)\n",
    "visible21 = (LSTM(n_steps_in, activation='softplus',return_sequences=True))(visible11)\n",
    "visible31 = (TimeDistributed(Dense(n_features)))(visible21)\n",
    "\n",
    "\n",
    "#,batch_input_shape=(32,100,1), stateful=True\n",
    "# вторая модель LSTM\n",
    "visible2 = Input(shape=(n_steps_in,n_features2))\n",
    "regul = tf.keras.layers.ActivityRegularization(l1=0.1, l2=0.1,input_shape=(n_steps_in,n_features1))(visible2)\n",
    "lstm = LSTM(100, input_shape =(100,n_features2))(regul)\n",
    "\n",
    "visible12 = (RepeatVector(n_steps_out))(lstm)\n",
    "visible22 = (LSTM(200, activation='softplus',return_sequences=True))(visible12)\n",
    "visible32 = (TimeDistributed(Dense(n_features)))(visible22)\n",
    "\n",
    "\n",
    "#lstm2 = LSTM(10, input_shape =(100,1))(lstm)\n",
    "\n",
    "# слияние\n",
    "merge = concatenate([dense1, lstm])\n",
    "output = Dense(1)(merge)\n",
    "model = Model(inputs=[visible1, visible2], outputs=output)\n",
    "model.compile(optimizer='adam', loss='mape', metrics=['accuracy'])\n",
    "# fit model\n",
    "model.fit([X1, X2], Y_trainl, epochs=10, verbose=1, batch_size=64, validation_split=0.01)\n",
    "# demonstrate prediction\n",
    "#x_input = array([[80, 85], [90, 95], [100, 105]])\n",
    "#x1 = x_input[:, 0].reshape((1, n_steps))\n",
    "#x2 = x_input[:, 1].reshape((1, n_steps))\n",
    "yhat = model.predict([X1, X2], verbose=0)\n",
    "print(yhat)\n",
    "\n"
   ]
  },
  {
   "cell_type": "code",
   "execution_count": null,
   "metadata": {},
   "outputs": [],
   "source": []
  },
  {
   "cell_type": "code",
   "execution_count": 116,
   "metadata": {},
   "outputs": [
    {
     "name": "stdout",
     "output_type": "stream",
     "text": [
      "WARNING:tensorflow:Layer lstm_32 will not use cuDNN kernels since it doesn't meet the criteria. It will use a generic GPU kernel as fallback when running on GPU.\n",
      "Epoch 1/10\n"
     ]
    },
    {
     "ename": "UnknownError",
     "evalue": "Graph execution error:\n\nFail to find the dnn implementation.\n\t [[{{node CudnnRNN}}]]\n\t [[model_7/lstm_31/PartitionedCall]] [Op:__inference_train_function_30757]",
     "output_type": "error",
     "traceback": [
      "\u001b[1;31m---------------------------------------------------------------------------\u001b[0m",
      "\u001b[1;31mUnknownError\u001b[0m                              Traceback (most recent call last)",
      "\u001b[1;32m<ipython-input-116-b11c1c994632>\u001b[0m in \u001b[0;36m<module>\u001b[1;34m\u001b[0m\n\u001b[0;32m     70\u001b[0m \u001b[0mmodel\u001b[0m\u001b[1;33m.\u001b[0m\u001b[0mcompile\u001b[0m\u001b[1;33m(\u001b[0m\u001b[0moptimizer\u001b[0m\u001b[1;33m=\u001b[0m\u001b[1;34m'adam'\u001b[0m\u001b[1;33m,\u001b[0m \u001b[0mloss\u001b[0m\u001b[1;33m=\u001b[0m\u001b[1;34m'mape'\u001b[0m\u001b[1;33m,\u001b[0m \u001b[0mmetrics\u001b[0m\u001b[1;33m=\u001b[0m\u001b[1;33m[\u001b[0m\u001b[1;34m'accuracy'\u001b[0m\u001b[1;33m]\u001b[0m\u001b[1;33m)\u001b[0m\u001b[1;33m\u001b[0m\u001b[1;33m\u001b[0m\u001b[0m\n\u001b[0;32m     71\u001b[0m \u001b[1;31m# fit model\u001b[0m\u001b[1;33m\u001b[0m\u001b[1;33m\u001b[0m\u001b[1;33m\u001b[0m\u001b[0m\n\u001b[1;32m---> 72\u001b[1;33m \u001b[0mmodel\u001b[0m\u001b[1;33m.\u001b[0m\u001b[0mfit\u001b[0m\u001b[1;33m(\u001b[0m\u001b[1;33m[\u001b[0m\u001b[0mX1\u001b[0m\u001b[1;33m]\u001b[0m\u001b[1;33m,\u001b[0m \u001b[0mY_trainl\u001b[0m\u001b[1;33m,\u001b[0m \u001b[0mepochs\u001b[0m\u001b[1;33m=\u001b[0m\u001b[1;36m10\u001b[0m\u001b[1;33m,\u001b[0m \u001b[0mverbose\u001b[0m\u001b[1;33m=\u001b[0m\u001b[1;36m1\u001b[0m\u001b[1;33m,\u001b[0m \u001b[0mbatch_size\u001b[0m\u001b[1;33m=\u001b[0m\u001b[1;36m64\u001b[0m\u001b[1;33m,\u001b[0m \u001b[0mvalidation_split\u001b[0m\u001b[1;33m=\u001b[0m\u001b[1;36m0.01\u001b[0m\u001b[1;33m)\u001b[0m\u001b[1;33m\u001b[0m\u001b[1;33m\u001b[0m\u001b[0m\n\u001b[0m\u001b[0;32m     73\u001b[0m \u001b[1;31m# demonstrate prediction\u001b[0m\u001b[1;33m\u001b[0m\u001b[1;33m\u001b[0m\u001b[1;33m\u001b[0m\u001b[0m\n\u001b[0;32m     74\u001b[0m \u001b[1;31m#x_input = array([[80, 85], [90, 95], [100, 105]])\u001b[0m\u001b[1;33m\u001b[0m\u001b[1;33m\u001b[0m\u001b[1;33m\u001b[0m\u001b[0m\n",
      "\u001b[1;32mD:\\anaconda3\\envs\\r_env\\lib\\site-packages\\keras\\utils\\traceback_utils.py\u001b[0m in \u001b[0;36merror_handler\u001b[1;34m(*args, **kwargs)\u001b[0m\n\u001b[0;32m     65\u001b[0m     \u001b[1;32mexcept\u001b[0m \u001b[0mException\u001b[0m \u001b[1;32mas\u001b[0m \u001b[0me\u001b[0m\u001b[1;33m:\u001b[0m  \u001b[1;31m# pylint: disable=broad-except\u001b[0m\u001b[1;33m\u001b[0m\u001b[1;33m\u001b[0m\u001b[0m\n\u001b[0;32m     66\u001b[0m       \u001b[0mfiltered_tb\u001b[0m \u001b[1;33m=\u001b[0m \u001b[0m_process_traceback_frames\u001b[0m\u001b[1;33m(\u001b[0m\u001b[0me\u001b[0m\u001b[1;33m.\u001b[0m\u001b[0m__traceback__\u001b[0m\u001b[1;33m)\u001b[0m\u001b[1;33m\u001b[0m\u001b[1;33m\u001b[0m\u001b[0m\n\u001b[1;32m---> 67\u001b[1;33m       \u001b[1;32mraise\u001b[0m \u001b[0me\u001b[0m\u001b[1;33m.\u001b[0m\u001b[0mwith_traceback\u001b[0m\u001b[1;33m(\u001b[0m\u001b[0mfiltered_tb\u001b[0m\u001b[1;33m)\u001b[0m \u001b[1;32mfrom\u001b[0m \u001b[1;32mNone\u001b[0m\u001b[1;33m\u001b[0m\u001b[1;33m\u001b[0m\u001b[0m\n\u001b[0m\u001b[0;32m     68\u001b[0m     \u001b[1;32mfinally\u001b[0m\u001b[1;33m:\u001b[0m\u001b[1;33m\u001b[0m\u001b[1;33m\u001b[0m\u001b[0m\n\u001b[0;32m     69\u001b[0m       \u001b[1;32mdel\u001b[0m \u001b[0mfiltered_tb\u001b[0m\u001b[1;33m\u001b[0m\u001b[1;33m\u001b[0m\u001b[0m\n",
      "\u001b[1;32mD:\\anaconda3\\envs\\r_env\\lib\\site-packages\\tensorflow\\python\\eager\\execute.py\u001b[0m in \u001b[0;36mquick_execute\u001b[1;34m(op_name, num_outputs, inputs, attrs, ctx, name)\u001b[0m\n\u001b[0;32m     52\u001b[0m   \u001b[1;32mtry\u001b[0m\u001b[1;33m:\u001b[0m\u001b[1;33m\u001b[0m\u001b[1;33m\u001b[0m\u001b[0m\n\u001b[0;32m     53\u001b[0m     \u001b[0mctx\u001b[0m\u001b[1;33m.\u001b[0m\u001b[0mensure_initialized\u001b[0m\u001b[1;33m(\u001b[0m\u001b[1;33m)\u001b[0m\u001b[1;33m\u001b[0m\u001b[1;33m\u001b[0m\u001b[0m\n\u001b[1;32m---> 54\u001b[1;33m     tensors = pywrap_tfe.TFE_Py_Execute(ctx._handle, device_name, op_name,\n\u001b[0m\u001b[0;32m     55\u001b[0m                                         inputs, attrs, num_outputs)\n\u001b[0;32m     56\u001b[0m   \u001b[1;32mexcept\u001b[0m \u001b[0mcore\u001b[0m\u001b[1;33m.\u001b[0m\u001b[0m_NotOkStatusException\u001b[0m \u001b[1;32mas\u001b[0m \u001b[0me\u001b[0m\u001b[1;33m:\u001b[0m\u001b[1;33m\u001b[0m\u001b[1;33m\u001b[0m\u001b[0m\n",
      "\u001b[1;31mUnknownError\u001b[0m: Graph execution error:\n\nFail to find the dnn implementation.\n\t [[{{node CudnnRNN}}]]\n\t [[model_7/lstm_31/PartitionedCall]] [Op:__inference_train_function_30757]"
     ]
    }
   ],
   "source": [
    "# multivariate mlp example\n",
    "from numpy import array\n",
    "from numpy import hstack\n",
    "from keras.models import Model\n",
    "from keras.layers import Input\n",
    "from keras.layers import Dense\n",
    "from keras.layers.merge import concatenate\n",
    " \n",
    "# split a multivariate sequence into samples\n",
    "def split_sequences(sequences, n_steps_in, n_steps_out):\n",
    "\tX, y = list(), list()\n",
    "\tfor i in range(len(sequences)):\n",
    "\t\t# find the end of this pattern\n",
    "\t\tend_ix = i + n_steps_in\n",
    "\t\tout_end_ix = end_ix + n_steps_out\n",
    "\t\t# check if we are beyond the dataset\n",
    "\t\tif out_end_ix > len(sequences):\n",
    "\t\t\tbreak\n",
    "\t\t# gather input and output parts of the pattern\n",
    "\t\tseq_x, seq_y = sequences[i:end_ix, :], sequences[end_ix:out_end_ix, :]\n",
    "\t\tX.append(seq_x)\n",
    "\t\ty.append(seq_y)\n",
    "\treturn array(X), array(y)\n",
    " \n",
    " \n",
    "# последовательность\n",
    "in_seq1 = X_leftl1\n",
    "#in_seq2 = X_rightl1\n",
    "out_seq = Y_trainl # array([in_seq1[i]+in_seq2[i] for i in range(len(in_seq1))])\n",
    "# конвертация в формат колонок и рядов\n",
    "in_seq1 = in_seq1.reshape((len(in_seq1), 1))\n",
    "#in_seq2 = in_seq2.reshape((len(in_seq2), 1))\n",
    "out_seq = out_seq.reshape((len(out_seq), 1))\n",
    "# горизонтальное последовательное размещение данных \n",
    "dataset = hstack((in_seq1,out_seq))\n",
    "# таймстепы\n",
    "# таймстепы\n",
    "n_steps_in, n_steps_out = 15, 1\n",
    "# convert into input/output\n",
    "\n",
    "n_features = 1\n",
    "\n",
    "\n",
    "X,y = split_sequences(dataset, n_steps_in, n_steps_out)\n",
    "n_features1 = 1\n",
    "n_features2 = 1\n",
    "# разделение данных \n",
    "X1 = X[:, :, 0]\n",
    "X2 = X[:, :, 1]\n",
    "# первая модель\n",
    "visible1 = Input(shape=(n_steps_in,n_features1))\n",
    "regul = tf.keras.layers.ActivityRegularization(l1=0.6, l2=0.4,input_shape=(n_steps_in,n_features1))(visible1)\n",
    "dense1 = LSTM(100, input_shape =(100,n_features1))(regul)\n",
    "\n",
    "visible11 = (RepeatVector(n_steps_out))(dense1)\n",
    "visible21 = (LSTM(n_steps_in, activation='softplus',return_sequences=True))(visible11)\n",
    "visible31 = (TimeDistributed(Dense(n_features)))(visible21)\n",
    "\n",
    "\n",
    "#,batch_input_shape=(32,100,1), stateful=True\n",
    "# вторая модель LSTM\n",
    "\n",
    "\n",
    "#lstm2 = LSTM(10, input_shape =(100,1))(lstm)\n",
    "\n",
    "# слияние\n",
    "#merge = concatenate([dense1])\n",
    "output = Dense(1)(visible31)\n",
    "model = Model(inputs=[visible1], outputs=output)\n",
    "model.compile(optimizer='adam', loss='mape', metrics=['accuracy'])\n",
    "# fit model\n",
    "model.fit([X1], Y_trainl, epochs=10, verbose=1, batch_size=64, validation_split=0.01)\n",
    "# demonstrate prediction\n",
    "#x_input = array([[80, 85], [90, 95], [100, 105]])\n",
    "#x1 = x_input[:, 0].reshape((1, n_steps))\n",
    "#x2 = x_input[:, 1].reshape((1, n_steps))\n",
    "yhat = model.predict([X1], verbose=0)\n",
    "print(yhat)\n",
    "\n"
   ]
  },
  {
   "cell_type": "code",
   "execution_count": null,
   "metadata": {},
   "outputs": [],
   "source": [
    "# multivariate mlp example\n",
    "from numpy import array\n",
    "from numpy import hstack\n",
    "from keras.models import Model\n",
    "from keras.layers import Input\n",
    "from keras.layers import Dense\n",
    "from keras.layers.merge import concatenate\n",
    " \n",
    "# split a multivariate sequence into samples\n",
    "def split_sequences(sequences, n_steps_in, n_steps_out):\n",
    "\tX, y = list(), list()\n",
    "\tfor i in range(len(sequences)):\n",
    "\t\t# find the end of this pattern\n",
    "\t\tend_ix = i + n_steps_in\n",
    "\t\tout_end_ix = end_ix + n_steps_out\n",
    "\t\t# check if we are beyond the dataset\n",
    "\t\tif out_end_ix > len(sequences):\n",
    "\t\t\tbreak\n",
    "\t\t# gather input and output parts of the pattern\n",
    "\t\tseq_x, seq_y = sequences[i:end_ix, :], sequences[end_ix:out_end_ix, :]\n",
    "\t\tX.append(seq_x)\n",
    "\t\ty.append(seq_y)\n",
    "\treturn array(X), array(y)\n",
    " \n",
    " \n",
    "# последовательность\n",
    "in_seq1 = X_leftt\n",
    "#in_seq2 = X_rightt\n",
    "out_seq = Y_traint # array([in_seq1[i]+in_seq2[i] for i in range(len(in_seq1))])\n",
    "# конвертация в формат колонок и рядов\n",
    "in_seq1 = in_seq1.reshape((len(in_seq1), 5))\n",
    "#in_seq2 = in_seq2.reshape((len(in_seq2), 5))\n",
    "out_seq = out_seq.reshape((len(out_seq), 1))\n",
    "# горизонтальное последовательное размещение данных \n",
    "dataset = hstack((in_seq1,out_seq))\n",
    "# таймстепы\n",
    "# таймстепы\n",
    "n_steps_in, n_steps_out = 15, 1\n",
    "# convert into input/output\n",
    "X,y = split_sequences(dataset, n_steps_in, n_steps_out)\n",
    "\n",
    "\n",
    "\n",
    "# разделение данных \n",
    "X1 = X[:, :, 0]\n",
    "#2 = X[:, :, 1]\n",
    "# первая модель\n",
    "\n",
    "yhat = model.predict([X1], verbose=1)\n",
    "print(yhat)"
   ]
  },
  {
   "cell_type": "code",
   "execution_count": null,
   "metadata": {},
   "outputs": [],
   "source": [
    "yhat.shape"
   ]
  },
  {
   "cell_type": "code",
   "execution_count": null,
   "metadata": {},
   "outputs": [],
   "source": [
    "yhat = yhat.flatten() \n",
    "Y_traint = Y_traint.flatten()\n",
    "Y_traint4 = Y_traint[0:120]\n",
    "datadt4 = datadtrain[0:120]\n",
    "import pandas as pd\n",
    "\n",
    "df = pd.DataFrame(data={'year': datadt4, \n",
    "                        'predict': yhat, \n",
    "                        'fact': Y_traint4})\n",
    "import matplotlib.pyplot as plt # Impot the relevant module\n",
    "\n",
    "fig, ax = plt.subplots() # Create the figure and axes object\n",
    "\n",
    "# Plot the first x and y axes:\n",
    "df.plot(x = 'year', y = 'predict',title = \"WELL AKSH_211\", ax = ax) \n",
    "# Plot the second x and y axes. By secondary_y = True a second y-axis is requested:\n",
    "# (see https://pandas.pydata.org/pandas-docs/stable/reference/api/pandas.DataFrame.plot.html for details)\n",
    "df.plot(x = 'year', y = 'fact', ax = ax, secondary_y = True)\n",
    "#df.plot(label=\"test1\")"
   ]
  },
  {
   "cell_type": "code",
   "execution_count": null,
   "metadata": {},
   "outputs": [],
   "source": [
    "from sklearn.metrics import r2_score\n",
    "r2_score(Y_traint4, yhat)"
   ]
  },
  {
   "cell_type": "code",
   "execution_count": null,
   "metadata": {},
   "outputs": [],
   "source": [
    "from sklearn.metrics import mean_absolute_percentage_error\n",
    "\n",
    "mean_absolute_percentage_error(Y_traint4, yhat)"
   ]
  },
  {
   "cell_type": "code",
   "execution_count": null,
   "metadata": {},
   "outputs": [],
   "source": [
    "from sklearn.metrics import mean_squared_error\n",
    "mean_squared_error(Y_traint4, yhat, squared=False)"
   ]
  },
  {
   "cell_type": "code",
   "execution_count": null,
   "metadata": {},
   "outputs": [],
   "source": [
    "from sklearn.metrics import mean_absolute_error\n",
    "mean_absolute_error(Y_traint4, yhat)"
   ]
  },
  {
   "cell_type": "code",
   "execution_count": null,
   "metadata": {},
   "outputs": [],
   "source": []
  },
  {
   "cell_type": "code",
   "execution_count": null,
   "metadata": {},
   "outputs": [],
   "source": [
    "# multivariate mlp example\n",
    "from numpy import array\n",
    "from numpy import hstack\n",
    "from keras.models import Model\n",
    "from keras.layers import Input\n",
    "from keras.layers import Dense\n",
    "from keras.layers.merge import concatenate\n",
    " \n",
    "# split a multivariate sequence into samples\n",
    "def split_sequences(sequences, n_steps_in, n_steps_out):\n",
    "\tX, y = list(), list()\n",
    "\tfor i in range(len(sequences)):\n",
    "\t\t# find the end of this pattern\n",
    "\t\tend_ix = i + n_steps_in\n",
    "\t\tout_end_ix = end_ix + n_steps_out\n",
    "\t\t# check if we are beyond the dataset\n",
    "\t\tif out_end_ix > len(sequences):\n",
    "\t\t\tbreak\n",
    "\t\t# gather input and output parts of the pattern\n",
    "\t\tseq_x, seq_y = sequences[i:end_ix, :], sequences[end_ix:out_end_ix, :]\n",
    "\t\tX.append(seq_x)\n",
    "\t\ty.append(seq_y)\n",
    "\treturn array(X), array(y)\n",
    " \n",
    " \n",
    "# последовательность\n",
    "in_seq1 = X_leftt\n",
    "in_seq2 = X_rightt\n",
    "out_seq = Y_traint # array([in_seq1[i]+in_seq2[i] for i in range(len(in_seq1))])\n",
    "# конвертация в формат колонок и рядов\n",
    "in_seq1 = in_seq1.reshape((len(in_seq1), 5,1,1))\n",
    "in_seq2 = in_seq2.reshape((len(in_seq2), 5,1,1))\n",
    "out_seq = out_seq.reshape((len(out_seq), 1,1,1))\n",
    "# горизонтальное последовательное размещение данных \n",
    "dataset = hstack((in_seq1, in_seq2, out_seq))\n",
    "# таймстепы\n",
    "# таймстепы\n",
    "n_steps_in, n_steps_out = 15, 1\n",
    "# convert into input/output\n",
    "X,y = split_sequences(dataset, n_steps_in, n_steps_out)\n",
    "\n",
    "\n",
    "\n",
    "# разделение данных \n",
    "X1 = X[:, :, 0]\n",
    "X2 = X[:, :, 1]\n",
    "# первая модель\n",
    "\n",
    "yhat = model.predict([X1, X2],batch_size=1, verbose=0)\n",
    "print(yhat)"
   ]
  },
  {
   "cell_type": "code",
   "execution_count": null,
   "metadata": {},
   "outputs": [],
   "source": [
    "yhat.shape\n"
   ]
  },
  {
   "cell_type": "code",
   "execution_count": null,
   "metadata": {},
   "outputs": [],
   "source": [
    "yhat = yhat.flatten()\n",
    "yhat = yhat[0:120]\n",
    "Y_traint = Y_traint.flatten()\n",
    "Y_traint4 = Y_traint[0:120]\n",
    "datadt4 = datadtrain[0:120]\n",
    "\n",
    "#datadt4 = datadt[0:120]\n",
    "import pandas as pd\n",
    "\n",
    "df = pd.DataFrame(data={'year': datadt4, \n",
    "                        'predict': yhat, \n",
    "                        'fact': Y_traint4})\n",
    "import matplotlib.pyplot as plt # Impot the relevant module\n",
    "\n",
    "fig, ax = plt.subplots() # Create the figure and axes object\n",
    "\n",
    "# Plot the first x and y axes:\n",
    "df.plot(x = 'year', y = 'predict',title = \"WELL AKSH_211\", ax = ax) \n",
    "# Plot the second x and y axes. By secondary_y = True a second y-axis is requested:\n",
    "# (see https://pandas.pydata.org/pandas-docs/stable/reference/api/pandas.DataFrame.plot.html for details)\n",
    "df.plot(x = 'year', y = 'fact', ax = ax, secondary_y = True)\n",
    "#df.plot(label=\"test1\")"
   ]
  },
  {
   "cell_type": "code",
   "execution_count": null,
   "metadata": {},
   "outputs": [],
   "source": [
    "#from sklearn.metrics import mean_squared_error\n",
    "#mean_squared_error(yhat, datadt4, False)"
   ]
  },
  {
   "cell_type": "code",
   "execution_count": null,
   "metadata": {},
   "outputs": [],
   "source": []
  },
  {
   "cell_type": "markdown",
   "metadata": {},
   "source": [
    "# ENCODER_DECODER_LSTM_LSTM(REPEATER)"
   ]
  },
  {
   "cell_type": "code",
   "execution_count": null,
   "metadata": {},
   "outputs": [],
   "source": [
    "# multivariate mlp example\n",
    "from numpy import array\n",
    "from numpy import hstack\n",
    "from keras.models import Model\n",
    "from keras.layers import Input\n",
    "from keras.layers import Dense\n",
    "from keras.layers.merge import concatenate\n",
    "import tensorflow as tf\n",
    "import tensorflow_addons as tfa \n",
    "# split a multivariate sequence into samples\n",
    "def split_sequences(sequences, n_steps_in, n_steps_out):\n",
    "\tX, y = list(), list()\n",
    "\tfor i in range(len(sequences)):\n",
    "\t\t# find the end of this pattern\n",
    "\t\tend_ix = i + n_steps_in\n",
    "\t\tout_end_ix = end_ix + n_steps_out\n",
    "\t\t# check if we are beyond the dataset\n",
    "\t\tif out_end_ix > len(sequences):\n",
    "\t\t\tbreak\n",
    "\t\t# gather input and output parts of the pattern\n",
    "\t\tseq_x, seq_y = sequences[i:end_ix, :], sequences[end_ix:out_end_ix, :]\n",
    "\t\tX.append(seq_x)\n",
    "\t\ty.append(seq_y)\n",
    "\treturn array(X), array(y)\n",
    " \n",
    " \n",
    "# последовательность\n",
    "in_seq1 = X_leftl\n",
    "in_seq2 = X_rightl\n",
    "out_seq = Y_trainl # array([in_seq1[i]+in_seq2[i] for i in range(len(in_seq1))])\n",
    "# конвертация в формат колонок и рядов\n",
    "in_seq1 = in_seq1.reshape((len(in_seq1), 5))\n",
    "in_seq2 = in_seq2.reshape((len(in_seq2), 5))\n",
    "out_seq = out_seq.reshape((len(out_seq), 1))\n",
    "# горизонтальное последовательное размещение данных \n",
    "dataset = hstack((in_seq1, in_seq2, out_seq))\n",
    "# таймстепы\n",
    "# таймстепы\n",
    "n_features = 1\n",
    "\n",
    "n_steps_in, n_steps_out = 15, 1\n",
    "# convert into input/output\n",
    "X,y = split_sequences(dataset, n_steps_in, n_steps_out)\n",
    "n_features1 = 5\n",
    "n_features2 = 5\n",
    "# разделение данных \n",
    "X1 = X[:, :, :5]\n",
    "X2 = X[:, :, :5]\n",
    "# первая модель\n",
    "visible1 = Input(shape=(n_steps_in,n_features1))\n",
    "\n",
    "visible1n = tfa.layers.GroupNormalization(1,-1,0.001,False)(visible1)\n",
    "dense1 = LSTM(n_steps_in, input_shape =(100,n_features1))(visible1n)\n",
    "\n",
    "visible11 = (RepeatVector(n_steps_out))(dense1)\n",
    "\n",
    "visible21 = (LSTM(n_steps_in, activation='softplus',return_sequences=True))(visible11)\n",
    "visible31 = (TimeDistributed(Dense(n_features)))(visible21)\n",
    "\n",
    "\n",
    "#,batch_input_shape=(32,100,1), stateful=True\n",
    "# вторая модель LSTM\n",
    "visible2 = Input(shape=(n_steps_in,n_features2))\n",
    "visible2n = tfa.layers.GroupNormalization(1,-1,0.001,False)(visible2)\n",
    "\n",
    "lstm = LSTM(n_steps_in, input_shape =(100,n_features2))(visible2n)\n",
    "\n",
    "visible12 = (RepeatVector(n_steps_out))(lstm)\n",
    "visible22 = (LSTM(n_steps_in, activation='softplus',return_sequences=True))(visible12)\n",
    "visible32 = (TimeDistributed(Dense(n_features)))(visible22)\n",
    "\n",
    "\n",
    "#lstm2 = LSTM(10, input_shape =(100,1))(lstm)\n",
    "\n",
    "# слияние\n",
    "merge = concatenate([dense1, lstm])\n",
    "output = Dense(1)(merge)\n",
    "model = Model(inputs=[visible1, visible2], outputs=output)\n",
    "model.compile(optimizer='adam', loss='mape', metrics=['accuracy'])\n",
    "# fit model\n",
    "model.fit([X1, X2], Y_trainl, epochs=4, verbose=1, batch_size=16, validation_split=0.01)\n",
    "# demonstrate prediction\n",
    "#x_input = array([[80, 85], [90, 95], [100, 105]])\n",
    "#x1 = x_input[:, 0].reshape((1, n_steps))\n",
    "#x2 = x_input[:, 1].reshape((1, n_steps))\n",
    "yhat = model.predict([X1, X2], verbose=0)\n",
    "print(yhat)"
   ]
  },
  {
   "cell_type": "code",
   "execution_count": null,
   "metadata": {},
   "outputs": [],
   "source": [
    "visible1.shape"
   ]
  },
  {
   "cell_type": "code",
   "execution_count": null,
   "metadata": {},
   "outputs": [],
   "source": [
    "# multivariate mlp example\n",
    "from numpy import array\n",
    "from numpy import hstack\n",
    "from keras.models import Model\n",
    "from keras.layers import Input\n",
    "from keras.layers import Dense\n",
    "from keras.layers.merge import concatenate\n",
    " \n",
    "# split a multivariate sequence into samples\n",
    "def split_sequences(sequences, n_steps_in, n_steps_out):\n",
    "\tX, y = list(), list()\n",
    "\tfor i in range(len(sequences)):\n",
    "\t\t# find the end of this pattern\n",
    "\t\tend_ix = i + n_steps_in\n",
    "\t\tout_end_ix = end_ix + n_steps_out\n",
    "\t\t# check if we are beyond the dataset\n",
    "\t\tif out_end_ix > len(sequences):\n",
    "\t\t\tbreak\n",
    "\t\t# gather input and output parts of the pattern\n",
    "\t\tseq_x, seq_y = sequences[i:end_ix, :], sequences[end_ix:out_end_ix, :]\n",
    "\t\tX.append(seq_x)\n",
    "\t\ty.append(seq_y)\n",
    "\treturn array(X), array(y)\n",
    " \n",
    " \n",
    "# последовательность\n",
    "in_seq1 = X_leftt\n",
    "in_seq2 = X_rightt\n",
    "out_seq = Y_traint # array([in_seq1[i]+in_seq2[i] for i in range(len(in_seq1))])\n",
    "# конвертация в формат колонок и рядов\n",
    "in_seq1 = in_seq1.reshape((len(in_seq1),5))\n",
    "in_seq2 = in_seq2.reshape((len(in_seq2),5))\n",
    "out_seq = out_seq.reshape((len(out_seq),1))\n",
    "# горизонтальное последовательное размещение данных \n",
    "dataset = hstack((in_seq1, in_seq2, out_seq))\n",
    "# таймстепы\n",
    "# таймстепы\n",
    "n_steps_in, n_steps_out = 15, 1\n",
    "# convert into input/output\n",
    "X,y = split_sequences(dataset, n_steps_in, n_steps_out)\n",
    "\n",
    "\n",
    "\n",
    "# разделение данных \n",
    "X1 = X[:, :, :5]\n",
    "X2 = X[:, :, :5]\n",
    "# первая модель\n",
    "\n",
    "yhat = model.predict([X1, X2],batch_size=1, verbose=0)\n",
    "print(yhat)"
   ]
  },
  {
   "cell_type": "code",
   "execution_count": null,
   "metadata": {},
   "outputs": [],
   "source": []
  },
  {
   "cell_type": "markdown",
   "metadata": {},
   "source": [
    "# LSTM_LSTM_Group_Normalization"
   ]
  },
  {
   "cell_type": "code",
   "execution_count": null,
   "metadata": {},
   "outputs": [],
   "source": [
    "# multivariate mlp example\n",
    "from numpy import array\n",
    "from numpy import hstack\n",
    "from keras.models import Model\n",
    "from keras.layers import Input\n",
    "from keras.layers import Dense\n",
    "from keras.layers.merge import concatenate\n",
    "import tensorflow as tf\n",
    "import tensorflow_addons as tfa \n",
    "# split a multivariate sequence into samples\n",
    "def split_sequences(sequences, n_steps_in, n_steps_out):\n",
    "\tX, y = list(), list()\n",
    "\tfor i in range(len(sequences)):\n",
    "\t\t# find the end of this pattern\n",
    "\t\tend_ix = i + n_steps_in\n",
    "\t\tout_end_ix = end_ix + n_steps_out\n",
    "\t\t# check if we are beyond the dataset\n",
    "\t\tif out_end_ix > len(sequences):\n",
    "\t\t\tbreak\n",
    "\t\t# gather input and output parts of the pattern\n",
    "\t\tseq_x, seq_y = sequences[i:end_ix, :], sequences[end_ix:out_end_ix, :]\n",
    "\t\tX.append(seq_x)\n",
    "\t\ty.append(seq_y)\n",
    "\treturn array(X), array(y)\n",
    " \n",
    " \n",
    "# последовательность\n",
    "in_seq1 = X_leftl\n",
    "in_seq2 = X_rightl\n",
    "out_seq = Y_trainl # array([in_seq1[i]+in_seq2[i] for i in range(len(in_seq1))])\n",
    "# конвертация в формат колонок и рядов\n",
    "in_seq1 = in_seq1.reshape((len(in_seq1), 5))\n",
    "in_seq2 = in_seq2.reshape((len(in_seq2), 5))\n",
    "out_seq = out_seq.reshape((len(out_seq), 1))\n",
    "# горизонтальное последовательное размещение данных \n",
    "dataset = hstack((in_seq1, in_seq2, out_seq))\n",
    "# таймстепы\n",
    "# таймстепы\n",
    "n_features = 1\n",
    "\n",
    "n_steps_in, n_steps_out = 15, 1\n",
    "# convert into input/output\n",
    "X,y = split_sequences(dataset, n_steps_in, n_steps_out)\n",
    "n_features1 = 1\n",
    "n_features2 = 1\n",
    "# разделение данных \n",
    "X1 = X[:, :, 0]\n",
    "X2 = X[:, :, 1]\n",
    "# первая модель\n",
    "visible1 = Input(shape=(n_steps_in,n_features1))\n",
    "\n",
    "visible1n = tfa.layers.GroupNormalization(1,-1,0.001,False)(visible1)\n",
    "dense1 = LSTM(n_steps_in, input_shape =(100,n_features1))(visible1n)\n",
    "\n",
    "visible11 = (RepeatVector(n_steps_out))(dense1)\n",
    "\n",
    "visible21 = (LSTM(n_steps_in, activation='softplus',return_sequences=True))(visible11)\n",
    "visible31 = (TimeDistributed(Dense(n_features)))(visible21)\n",
    "\n",
    "\n",
    "#,batch_input_shape=(32,100,1), stateful=True\n",
    "# вторая модель LSTM\n",
    "visible2 = Input(shape=(n_steps_in,n_features2))\n",
    "visible2n = tfa.layers.GroupNormalization(1,-1,0.001,False)(visible2)\n",
    "\n",
    "lstm = LSTM(n_steps_in, input_shape =(100,n_features2))(visible2n)\n",
    "\n",
    "visible12 = (RepeatVector(n_steps_out))(lstm)\n",
    "visible22 = (LSTM(n_steps_in, activation='softplus',return_sequences=True))(visible12)\n",
    "visible32 = (TimeDistributed(Dense(n_features)))(visible22)\n",
    "\n",
    "\n",
    "#lstm2 = LSTM(10, input_shape =(100,1))(lstm)\n",
    "\n",
    "# слияние\n",
    "merge = concatenate([dense1, lstm])\n",
    "output = Dense(1)(merge)\n",
    "model = Model(inputs=[visible1, visible2], outputs=output)\n",
    "model.compile(optimizer='adam', loss='mape', metrics=['accuracy'])\n",
    "# fit model\n",
    "model.fit([X1, X2], Y_trainl, epochs=400, verbose=1, batch_size=16, validation_split=0.01)\n",
    "# demonstrate prediction\n",
    "#x_input = array([[80, 85], [90, 95], [100, 105]])\n",
    "#x1 = x_input[:, 0].reshape((1, n_steps))\n",
    "#x2 = x_input[:, 1].reshape((1, n_steps))\n",
    "yhat = model.predict([X1, X2], verbose=0)\n",
    "print(yhat)"
   ]
  },
  {
   "cell_type": "code",
   "execution_count": null,
   "metadata": {},
   "outputs": [],
   "source": []
  },
  {
   "cell_type": "code",
   "execution_count": null,
   "metadata": {},
   "outputs": [],
   "source": [
    "# multivariate mlp example\n",
    "from numpy import array\n",
    "from numpy import hstack\n",
    "from keras.models import Model\n",
    "from keras.layers import Input\n",
    "from keras.layers import Dense\n",
    "from keras.layers.merge import concatenate\n",
    " \n",
    "# split a multivariate sequence into samples\n",
    "def split_sequences(sequences, n_steps_in, n_steps_out):\n",
    "\tX, y = list(), list()\n",
    "\tfor i in range(len(sequences)):\n",
    "\t\t# find the end of this pattern\n",
    "\t\tend_ix = i + n_steps_in\n",
    "\t\tout_end_ix = end_ix + n_steps_out\n",
    "\t\t# check if we are beyond the dataset\n",
    "\t\tif out_end_ix > len(sequences):\n",
    "\t\t\tbreak\n",
    "\t\t# gather input and output parts of the pattern\n",
    "\t\tseq_x, seq_y = sequences[i:end_ix, :], sequences[end_ix:out_end_ix, :]\n",
    "\t\tX.append(seq_x)\n",
    "\t\ty.append(seq_y)\n",
    "\treturn array(X), array(y)\n",
    " \n",
    " \n",
    "# последовательность\n",
    "in_seq1 = X_leftt\n",
    "in_seq2 = X_rightt\n",
    "out_seq = Y_traint # array([in_seq1[i]+in_seq2[i] for i in range(len(in_seq1))])\n",
    "# конвертация в формат колонок и рядов\n",
    "in_seq1 = in_seq1.reshape((len(in_seq1), 5,1,1))\n",
    "in_seq2 = in_seq2.reshape((len(in_seq2), 5,1,1))\n",
    "out_seq = out_seq.reshape((len(out_seq), 1,1,1))\n",
    "# горизонтальное последовательное размещение данных \n",
    "dataset = hstack((in_seq1, in_seq2, out_seq))\n",
    "# таймстепы\n",
    "# таймстепы\n",
    "n_steps_in, n_steps_out = 15, 1\n",
    "# convert into input/output\n",
    "X,y = split_sequences(dataset, n_steps_in, n_steps_out)\n",
    "\n",
    "\n",
    "\n",
    "# разделение данных \n",
    "X1 = X[:, :, 0]\n",
    "X2 = X[:, :, 1]\n",
    "# первая модель\n",
    "\n",
    "yhat = model.predict([X1, X2],batch_size=1, verbose=0)\n",
    "print(yhat)"
   ]
  },
  {
   "cell_type": "code",
   "execution_count": null,
   "metadata": {},
   "outputs": [],
   "source": [
    "# multivariate mlp example\n",
    "from numpy import array\n",
    "from numpy import hstack\n",
    "from keras.models import Model\n",
    "from keras.layers import Input\n",
    "from keras.layers import Dense\n",
    "from keras.layers.merge import concatenate\n",
    "import tensorflow as tf\n",
    "import tensorflow_addons as tfa \n",
    "# split a multivariate sequence into samples\n",
    "def split_sequences(sequences, n_steps_in, n_steps_out):\n",
    "\tX, y = list(), list()\n",
    "\tfor i in range(len(sequences)):\n",
    "\t\t# find the end of this pattern\n",
    "\t\tend_ix = i + n_steps_in\n",
    "\t\tout_end_ix = end_ix + n_steps_out\n",
    "\t\t# check if we are beyond the dataset\n",
    "\t\tif out_end_ix > len(sequences):\n",
    "\t\t\tbreak\n",
    "\t\t# gather input and output parts of the pattern\n",
    "\t\tseq_x, seq_y = sequences[i:end_ix, :], sequences[end_ix:out_end_ix, :]\n",
    "\t\tX.append(seq_x)\n",
    "\t\ty.append(seq_y)\n",
    "\treturn array(X), array(y)\n",
    " \n",
    " \n",
    "# последовательность\n",
    "in_seq1 = X_leftl\n",
    "in_seq2 = X_rightl\n",
    "out_seq = Y_trainl # array([in_seq1[i]+in_seq2[i] for i in range(len(in_seq1))])\n",
    "# конвертация в формат колонок и рядов\n",
    "in_seq1 = in_seq1.reshape((len(in_seq1), 5))\n",
    "in_seq2 = in_seq2.reshape((len(in_seq2), 5))\n",
    "out_seq = out_seq.reshape((len(out_seq), 1))\n",
    "# горизонтальное последовательное размещение данных \n",
    "dataset = hstack((in_seq1, in_seq2, out_seq))\n",
    "# таймстепы\n",
    "# таймстепы\n",
    "n_features = 1\n",
    "\n",
    "n_steps_in, n_steps_out = 15, 1\n",
    "# convert into input/output\n",
    "X,y = split_sequences(dataset, n_steps_in, n_steps_out)\n",
    "n_features1 = 5\n",
    "n_features2 = 5\n",
    "# разделение данных \n",
    "X1 = X[:, :, :5]\n",
    "X2 = X[:, :, :5]\n",
    "# первая модель\n",
    "visible1 = Input(shape=(n_steps_in,n_features1))\n",
    "\n",
    "visible1n = tfa.layers.GroupNormalization(1,-1,0.001,False)(visible1)\n",
    "dense1 = LSTM(n_steps_in, input_shape =(100,n_features1))(visible1n)\n",
    "\n",
    "visible11 = (RepeatVector(n_steps_out))(dense1)\n",
    "\n",
    "visible21 = (LSTM(n_steps_in, activation='softplus',return_sequences=True))(visible11)\n",
    "visible31 = (TimeDistributed(Dense(n_features)))(visible21)\n",
    "\n",
    "\n",
    "#,batch_input_shape=(32,100,1), stateful=True\n",
    "# вторая модель LSTM\n",
    "visible2 = Input(shape=(n_steps_in,n_features2))\n",
    "visible2n = tfa.layers.GroupNormalization(1,-1,0.001,False)(visible2)\n",
    "\n",
    "lstm = LSTM(n_steps_in, input_shape =(100,n_features2))(visible2n)\n",
    "\n",
    "visible12 = (RepeatVector(n_steps_out))(lstm)\n",
    "visible22 = (LSTM(n_steps_in, activation='softplus',return_sequences=True))(visible12)\n",
    "visible32 = (TimeDistributed(Dense(n_features)))(visible22)\n",
    "\n",
    "\n",
    "#lstm2 = LSTM(10, input_shape =(100,1))(lstm)\n",
    "\n",
    "# слияние\n",
    "merge = concatenate([dense1, lstm])\n",
    "output = Dense(1)(merge)\n",
    "model = Model(inputs=[visible1, visible2], outputs=output)\n",
    "model.compile(optimizer='adam', loss='mape', metrics=['accuracy'])\n",
    "# fit model\n",
    "model.fit([X1, X2], Y_trainl, epochs=400, verbose=1, batch_size=16, validation_split=0.01)\n",
    "# demonstrate prediction\n",
    "#x_input = array([[80, 85], [90, 95], [100, 105]])\n",
    "#x1 = x_input[:, 0].reshape((1, n_steps))\n",
    "#x2 = x_input[:, 1].reshape((1, n_steps))\n",
    "yhat = model.predict([X1, X2], verbose=0)\n",
    "print(yhat)"
   ]
  },
  {
   "cell_type": "code",
   "execution_count": null,
   "metadata": {},
   "outputs": [],
   "source": [
    "yhat = yhat.flatten()\n",
    "yhat = yhat[0:120]\n",
    "Y_traint = Y_traint.flatten()\n",
    "Y_traint4 = Y_traint[0:120]\n",
    "datadt4 = datadtrain[0:120]\n",
    "\n",
    "#datadt4 = datadt[0:120]\n",
    "import pandas as pd\n",
    "\n",
    "df = pd.DataFrame(data={'year': datadt4, \n",
    "                        'predict': yhat, \n",
    "                        'fact': Y_traint4})\n",
    "import matplotlib.pyplot as plt # Impot the relevant module\n",
    "\n",
    "fig, ax = plt.subplots() # Create the figure and axes object\n",
    "\n",
    "# Plot the first x and y axes:\n",
    "df.plot(x = 'year', y = 'predict',title = \"WELL AKSH_211\", ax = ax) \n",
    "# Plot the second x and y axes. By secondary_y = True a second y-axis is requested:\n",
    "# (see https://pandas.pydata.org/pandas-docs/stable/reference/api/pandas.DataFrame.plot.html for details)\n",
    "df.plot(x = 'year', y = 'fact', ax = ax, secondary_y = True)\n",
    "#df.plot(label=\"test1\")"
   ]
  },
  {
   "cell_type": "code",
   "execution_count": null,
   "metadata": {},
   "outputs": [],
   "source": [
    "from sklearn.metrics import mean_squared_error     \n",
    "    \n",
    "mean_squared_error(Y_traint4, yhat)"
   ]
  },
  {
   "cell_type": "code",
   "execution_count": null,
   "metadata": {},
   "outputs": [],
   "source": [
    "from sklearn.metrics import r2_score\n",
    "r2_score(Y_traint4, yhat)"
   ]
  },
  {
   "cell_type": "code",
   "execution_count": null,
   "metadata": {},
   "outputs": [],
   "source": [
    "from sklearn.metrics import mean_squared_error\n",
    "mean_squared_error(Y_traint4, yhat, squared=False)"
   ]
  },
  {
   "cell_type": "code",
   "execution_count": null,
   "metadata": {},
   "outputs": [],
   "source": [
    "from sklearn.metrics import mean_absolute_percentage_error\n",
    "\n",
    "mean_absolute_percentage_error(Y_traint4, yhat)"
   ]
  },
  {
   "cell_type": "code",
   "execution_count": null,
   "metadata": {},
   "outputs": [],
   "source": [
    "from sklearn.metrics import mean_absolute_error\n",
    "mean_squared_error(Y_traint4, yhat)"
   ]
  },
  {
   "cell_type": "markdown",
   "metadata": {},
   "source": [
    "# ЯДРА"
   ]
  },
  {
   "cell_type": "markdown",
   "metadata": {},
   "source": [
    "# TEST_PREDICTION(любое ядро кроме ConvLSTM2D)"
   ]
  },
  {
   "cell_type": "code",
   "execution_count": null,
   "metadata": {},
   "outputs": [],
   "source": [
    "yhat.shape"
   ]
  },
  {
   "cell_type": "code",
   "execution_count": null,
   "metadata": {},
   "outputs": [],
   "source": [
    "yhat = yhat.flatten() \n",
    "Y_traint = Y_traint.flatten()\n",
    "Y_traint4 = Y_traint[0:120]\n",
    "datadt4 = datadtrain[0:120]\n",
    "import pandas as pd\n",
    "\n",
    "df = pd.DataFrame(data={'year': datadt4, \n",
    "                        'predict': yhat, \n",
    "                        'fact': Y_traint4})\n",
    "import matplotlib.pyplot as plt # Impot the relevant module\n",
    "\n",
    "fig, ax = plt.subplots() # Create the figure and axes object\n",
    "\n",
    "# Plot the first x and y axes:\n",
    "df.plot(x = 'year', y = 'predict',title = \"WELL AKSH_211\", ax = ax) \n",
    "# Plot the second x and y axes. By secondary_y = True a second y-axis is requested:\n",
    "# (see https://pandas.pydata.org/pandas-docs/stable/reference/api/pandas.DataFrame.plot.html for details)\n",
    "df.plot(x = 'year', y = 'fact', ax = ax, secondary_y = True)\n",
    "#df.plot(label=\"test1\")"
   ]
  },
  {
   "cell_type": "code",
   "execution_count": null,
   "metadata": {},
   "outputs": [],
   "source": [
    "from sklearn.metrics import r2_score\n",
    "r2_score(Y_traint4, yhat)"
   ]
  },
  {
   "cell_type": "markdown",
   "metadata": {},
   "source": [
    "# LSTM_LSTM_Group_Normalization_Time_Distributed (корректная модель)"
   ]
  },
  {
   "cell_type": "code",
   "execution_count": null,
   "metadata": {},
   "outputs": [],
   "source": [
    "# multivariate mlp example\n",
    "from numpy import array\n",
    "from numpy import hstack\n",
    "from keras.models import Model\n",
    "from keras.layers import Input\n",
    "from keras.layers import Dense\n",
    "from keras.layers.merge import concatenate\n",
    "import tensorflow as tf\n",
    "import tensorflow_addons as tfa \n",
    "# split a multivariate sequence into samples\n",
    "def split_sequences(sequences, n_steps_in, n_steps_out):\n",
    "\tX, y = list(), list()\n",
    "\tfor i in range(len(sequences)):\n",
    "\t\t# find the end of this pattern\n",
    "\t\tend_ix = i + n_steps_in\n",
    "\t\tout_end_ix = end_ix + n_steps_out\n",
    "\t\t# check if we are beyond the dataset\n",
    "\t\tif out_end_ix > len(sequences):\n",
    "\t\t\tbreak\n",
    "\t\t# gather input and output parts of the pattern\n",
    "\t\tseq_x, seq_y = sequences[i:end_ix, :], sequences[end_ix:out_end_ix, :]\n",
    "\t\tX.append(seq_x)\n",
    "\t\ty.append(seq_y)\n",
    "\treturn array(X), array(y)\n",
    " \n",
    " \n",
    "# последовательность\n",
    "in_seq1 = X_leftl\n",
    "in_seq2 = X_rightl\n",
    "out_seq = Y_trainl # array([in_seq1[i]+in_seq2[i] for i in range(len(in_seq1))])\n",
    "# конвертация в формат колонок и рядов\n",
    "in_seq1 = in_seq1.reshape((len(in_seq1), 5))\n",
    "in_seq2 = in_seq2.reshape((len(in_seq2), 5))\n",
    "out_seq = out_seq.reshape((len(out_seq), 1))\n",
    "# горизонтальное последовательное размещение данных \n",
    "dataset = hstack((in_seq1, in_seq2, out_seq))\n",
    "# таймстепы\n",
    "# таймстепы\n",
    "n_features = 1\n",
    "\n",
    "n_steps_in, n_steps_out = 15, 2\n",
    "# convert into input/output\n",
    "X,y = split_sequences(dataset, n_steps_in, n_steps_out)\n",
    "n_features1 = 5\n",
    "n_features2 = 5\n",
    "# разделение данных \n",
    "X1 = X[:, :, :5]\n",
    "X2 = X[:, :, :5]\n",
    "# первая модель\n",
    "visible1 = Input(shape=(n_steps_in,n_features1))\n",
    "\n",
    "visible1n = tfa.layers.GroupNormalization(1,-1,0.001,False)(visible1)\n",
    "dense1 = LSTM(n_steps_in, input_shape =(100,n_features1))(visible1n)\n",
    "\n",
    "visible11 = (RepeatVector(n_steps_out))(dense1)\n",
    "\n",
    "visible21 = (LSTM(n_steps_in, activation='softplus',return_sequences=True))(visible11)\n",
    "visible31 = (TimeDistributed(Dense(n_features1)))(visible21)\n",
    "\n",
    "\n",
    "#,batch_input_shape=(32,100,1), stateful=True\n",
    "# вторая модель LSTM\n",
    "visible2 = Input(shape=(n_steps_in,n_features2))\n",
    "visible2n = tfa.layers.GroupNormalization(1,-1,0.001,False)(visible2)\n",
    "\n",
    "lstm = LSTM(n_steps_in, input_shape =(100,n_features2))(visible2n)\n",
    "\n",
    "visible12 = (RepeatVector(n_steps_out))(lstm)\n",
    "visible22 = (LSTM(n_steps_in, activation='softplus',return_sequences=True))(visible12)\n",
    "visible32 = (TimeDistributed(Dense(n_features2)))(visible22)\n",
    "\n",
    "\n",
    "#lstm2 = LSTM(10, input_shape =(100,1))(lstm)\n",
    "\n",
    "# слияние\n",
    "merge = concatenate([dense1, lstm])\n",
    "output = Dense(1)(merge)\n",
    "model = Model(inputs=[visible1, visible2], outputs=output)\n",
    "model.compile(optimizer='adam', loss='mape', metrics=['accuracy'])\n",
    "# fit model\n",
    "model.fit([X1, X2], Y_trainl, epochs=400, verbose=1, batch_size=16, validation_split=0.01)\n",
    "# demonstrate prediction\n",
    "#x_input = array([[80, 85], [90, 95], [100, 105]])\n",
    "#x1 = x_input[:, 0].reshape((1, n_steps))\n",
    "#x2 = x_input[:, 1].reshape((1, n_steps))\n",
    "yhat = model.predict([X1, X2], verbose=0)\n",
    "print(yhat)"
   ]
  },
  {
   "cell_type": "code",
   "execution_count": null,
   "metadata": {},
   "outputs": [],
   "source": [
    "# multivariate mlp example\n",
    "from numpy import array\n",
    "from numpy import hstack\n",
    "from keras.models import Model\n",
    "from keras.layers import Input\n",
    "from keras.layers import Dense\n",
    "from keras.layers.merge import concatenate\n",
    "import tensorflow as tf\n",
    "import tensorflow_addons as tfa \n",
    "# split a multivariate sequence into samples\n",
    "def split_sequences(sequences, n_steps_in, n_steps_out):\n",
    "\tX, y = list(), list()\n",
    "\tfor i in range(len(sequences)):\n",
    "\t\t# find the end of this pattern\n",
    "\t\tend_ix = i + n_steps_in\n",
    "\t\tout_end_ix = end_ix + n_steps_out\n",
    "\t\t# check if we are beyond the dataset\n",
    "\t\tif out_end_ix > len(sequences):\n",
    "\t\t\tbreak\n",
    "\t\t# gather input and output parts of the pattern\n",
    "\t\tseq_x, seq_y = sequences[i:end_ix, :], sequences[end_ix:out_end_ix, :]\n",
    "\t\tX.append(seq_x)\n",
    "\t\ty.append(seq_y)\n",
    "\treturn array(X), array(y)\n",
    " \n",
    " \n",
    "# последовательность\n",
    "in_seq1 = X_leftl1\n",
    "in_seq2 = X_rightl1\n",
    "out_seq = Y_trainl # array([in_seq1[i]+in_seq2[i] for i in range(len(in_seq1))])\n",
    "# конвертация в формат колонок и рядов\n",
    "in_seq1 = in_seq1.reshape((len(in_seq1), 1))\n",
    "in_seq2 = in_seq2.reshape((len(in_seq2), 1))\n",
    "out_seq = out_seq.reshape((len(out_seq), 1))\n",
    "# горизонтальное последовательное размещение данных \n",
    "dataset = hstack((in_seq1, in_seq2, out_seq))\n",
    "# таймстепы\n",
    "# таймстепы\n",
    "n_steps_in, n_steps_out = 15, 1\n",
    "# convert into input/output\n",
    "X,y = split_sequences(dataset, n_steps_in, n_steps_out)\n",
    "n_features1 = 1\n",
    "n_features2 = 1\n",
    "# разделение данных \n",
    "X1 = X[:, :, 0]\n",
    "X2 = X[:, :, 1]\n",
    "# первая модель\n",
    "visible1 = Input(shape=(n_steps_in,n_features1))\n",
    "\n",
    "visible1n = tfa.layers.GroupNormalization(1,-1,0.001,False)(visible1)\n",
    "dense1 = LSTM(100, input_shape =(100,n_features1))(visible1n)\n",
    "\n",
    "visible11 = (RepeatVector(n_steps_out))(dense1)\n",
    "\n",
    "visible21 = (LSTM(n_steps, activation='softplus',return_sequences=True))(visible11)\n",
    "visible31 = (TimeDistributed(Dense(n_features)))(visible21)\n",
    "\n",
    "\n",
    "#,batch_input_shape=(32,100,1), stateful=True\n",
    "# вторая модель LSTM\n",
    "visible2 = Input(shape=(n_steps_in,n_features2))\n",
    "visible2n = tfa.layers.GroupNormalization(1,-1,0.001,False)(visible2)\n",
    "\n",
    "lstm = LSTM(100, input_shape =(100,n_features2))(visible2n)\n",
    "\n",
    "visible12 = (RepeatVector(n_steps_out))(lstm)\n",
    "visible22 = (LSTM(200, activation='softplus',return_sequences=True))(visible12)\n",
    "visible32 = (TimeDistributed(Dense(n_features)))(visible22)\n",
    "\n",
    "\n",
    "#lstm2 = LSTM(10, input_shape =(100,1))(lstm)\n",
    "\n",
    "# слияние\n",
    "merge = concatenate([dense1, lstm])\n",
    "output = Dense(1)(merge)\n",
    "model = Model(inputs=[visible1, visible2], outputs=output)\n",
    "model.compile(optimizer='adam', loss='mape', metrics=['accuracy'])\n",
    "# fit model\n",
    "model.fit([X1, X2], Y_trainl, epochs=400, verbose=1, batch_size=16, validation_split=0.01)\n",
    "# demonstrate prediction\n",
    "#x_input = array([[80, 85], [90, 95], [100, 105]])\n",
    "#x1 = x_input[:, 0].reshape((1, n_steps))\n",
    "#x2 = x_input[:, 1].reshape((1, n_steps))\n",
    "yhat = model.predict([X1, X2], verbose=0)\n",
    "print(yhat)"
   ]
  },
  {
   "cell_type": "code",
   "execution_count": null,
   "metadata": {},
   "outputs": [],
   "source": [
    "# multivariate mlp example\n",
    "from numpy import array\n",
    "from numpy import hstack\n",
    "from keras.models import Model\n",
    "from keras.layers import Input\n",
    "from keras.layers import Dense\n",
    "from keras.layers.merge import concatenate\n",
    " \n",
    "# split a multivariate sequence into samples\n",
    "def split_sequences(sequences, n_steps_in, n_steps_out):\n",
    "\tX, y = list(), list()\n",
    "\tfor i in range(len(sequences)):\n",
    "\t\t# find the end of this pattern\n",
    "\t\tend_ix = i + n_steps_in\n",
    "\t\tout_end_ix = end_ix + n_steps_out\n",
    "\t\t# check if we are beyond the dataset\n",
    "\t\tif out_end_ix > len(sequences):\n",
    "\t\t\tbreak\n",
    "\t\t# gather input and output parts of the pattern\n",
    "\t\tseq_x, seq_y = sequences[i:end_ix, :], sequences[end_ix:out_end_ix, :]\n",
    "\t\tX.append(seq_x)\n",
    "\t\ty.append(seq_y)\n",
    "\treturn array(X), array(y)\n",
    " \n",
    " \n",
    "# последовательность\n",
    "in_seq1 = X_leftt\n",
    "in_seq2 = X_rightt\n",
    "out_seq = Y_traint # array([in_seq1[i]+in_seq2[i] for i in range(len(in_seq1))])\n",
    "# конвертация в формат колонок и рядов\n",
    "in_seq1 = in_seq1.reshape((len(in_seq1), 5))\n",
    "in_seq2 = in_seq2.reshape((len(in_seq2), 5))\n",
    "out_seq = out_seq.reshape((len(out_seq), 1))\n",
    "# горизонтальное последовательное размещение данных \n",
    "dataset = hstack((in_seq1, in_seq2, out_seq))\n",
    "# таймстепы\n",
    "# таймстепы\n",
    "n_steps_in, n_steps_out = 15, 1\n",
    "# convert into input/output\n",
    "X,y = split_sequences(dataset, n_steps_in, n_steps_out)\n",
    "\n",
    "\n",
    "\n",
    "# разделение данных \n",
    "X1 = X[:, :, :5]\n",
    "X2 = X[:, :, :5]\n",
    "# первая модель\n",
    "\n",
    "yhat = model.predict([X1, X2], verbose=0)\n",
    "print(yhat)"
   ]
  },
  {
   "cell_type": "code",
   "execution_count": null,
   "metadata": {},
   "outputs": [],
   "source": [
    "yhat.shape"
   ]
  },
  {
   "cell_type": "code",
   "execution_count": null,
   "metadata": {},
   "outputs": [],
   "source": [
    "yhat = yhat.flatten() \n",
    "Y_traint = Y_traint.flatten()\n",
    "Y_traint4 = Y_traint[0:120]\n",
    "datadt4 = datadtrain[0:120]\n",
    "import pandas as pd\n",
    "\n",
    "df = pd.DataFrame(data={'year': datadt4, \n",
    "                        'predict': yhat, \n",
    "                        'fact': Y_traint4})\n",
    "import matplotlib.pyplot as plt # Impot the relevant module\n",
    "\n",
    "fig, ax = plt.subplots() # Create the figure and axes object\n",
    "\n",
    "# Plot the first x and y axes:\n",
    "df.plot(x = 'year', y = 'predict',title = \"WELL AKSH_211\", ax = ax) \n",
    "# Plot the second x and y axes. By secondary_y = True a second y-axis is requested:\n",
    "# (see https://pandas.pydata.org/pandas-docs/stable/reference/api/pandas.DataFrame.plot.html for details)\n",
    "df.plot(x = 'year', y = 'fact', ax = ax, secondary_y = True)\n",
    "#df.plot(label=\"test1\")"
   ]
  },
  {
   "cell_type": "markdown",
   "metadata": {},
   "source": [
    "# ConvLSTM2D corrected model"
   ]
  },
  {
   "cell_type": "markdown",
   "metadata": {},
   "source": [
    "# Stateful =True"
   ]
  },
  {
   "cell_type": "markdown",
   "metadata": {},
   "source": [
    "# Генерация предиктов (входные и прогноз как у модели ConvLSTM2D/!)"
   ]
  },
  {
   "cell_type": "code",
   "execution_count": null,
   "metadata": {},
   "outputs": [],
   "source": [
    "# multivariate mlp example\n",
    "from numpy import array\n",
    "from numpy import hstack\n",
    "from keras.models import Model\n",
    "from keras.layers import Input\n",
    "from keras.layers import Dense\n",
    "from keras.layers.merge import concatenate\n",
    "# multivariate multi-step encoder-decoder lstm example\n",
    "from numpy import array\n",
    "from numpy import hstack\n",
    "from keras.models import Sequential\n",
    "from keras.layers import LSTM\n",
    "from keras.layers import Dense\n",
    "from keras.layers import RepeatVector\n",
    "from keras.layers import TimeDistributed\n",
    "n_features = 1 \n",
    "# split a multivariate sequence into samples\n",
    "def split_sequences(sequences, n_steps_in, n_steps_out):\n",
    "\tX, y = list(), list()\n",
    "\tfor i in range(len(sequences)):\n",
    "\t\t# find the end of this pattern\n",
    "\t\tend_ix = i + n_steps_in\n",
    "\t\tout_end_ix = end_ix + n_steps_out\n",
    "\t\t# check if we are beyond the dataset\n",
    "\t\tif out_end_ix > len(sequences):\n",
    "\t\t\tbreak\n",
    "\t\t# gather input and output parts of the pattern\n",
    "\t\tseq_x, seq_y = sequences[i:end_ix, :], sequences[end_ix:out_end_ix, :]\n",
    "\t\tX.append(seq_x)\n",
    "\t\ty.append(seq_y)\n",
    "\treturn array(X), array(y)\n",
    " \n",
    "# последовательность\n",
    "in_seq1 = X_leftt#[0:856]\n",
    "in_seq2 = X_rightt#[0:856]\n",
    "out_seq = Y_traint#[0:856] # array([in_seq1[i]+in_seq2[i] for i in range(len(in_seq1))])\n",
    "# конвертация в формат колонок и рядов\n",
    "in_seq1 = in_seq1.reshape((len(in_seq1),6,1,1))\n",
    "in_seq2 = in_seq2.reshape((len(in_seq2),5,1,1))\n",
    "out_seq = out_seq.reshape((len(out_seq),1,1,1))\n",
    "# горизонтальное последовательное размещение данных \n",
    "dataset = hstack((in_seq1, in_seq2, out_seq))\n",
    "# таймстепы\n",
    "n_steps_in, n_steps_out = 15, 1\n",
    "\n",
    "# convert into input/output\n",
    "X, y = split_sequences(dataset, n_steps_in, n_steps_out)\n",
    "# разделение данных \n",
    "X1 = X[:, :, 0]\n",
    "X2 = X[:, :, 1]\n",
    "# первая модель\n",
    "model.fit([X1, X2], Y_traint, epochs=20, verbose=1, batch_size=100, validation_split=0.1)\n",
    "# demonstrate prediction\n",
    "#x_input = array([[80, 85], [90, 95], [100, 105]])\n",
    "#x1 = x_input[:, 0].reshape((1, n_steps))\n",
    "#x2 = x_input[:, 1].reshape((1, n_steps))\n",
    "yhat = model.predict([X1, X2], verbose=0)\n",
    "print(yhat)"
   ]
  },
  {
   "cell_type": "code",
   "execution_count": null,
   "metadata": {},
   "outputs": [],
   "source": [
    "X.shape"
   ]
  },
  {
   "cell_type": "markdown",
   "metadata": {},
   "source": [
    "# MLP_MLP_Multistep модель"
   ]
  },
  {
   "cell_type": "markdown",
   "metadata": {},
   "source": [
    "# ConvLSTM2D corrected model"
   ]
  },
  {
   "cell_type": "markdown",
   "metadata": {},
   "source": [
    "# MULTISTEP PREDICT ДЛЯ ConvLSTM2D!"
   ]
  },
  {
   "cell_type": "code",
   "execution_count": null,
   "metadata": {},
   "outputs": [],
   "source": [
    "# multivariate mlp example\n",
    "from numpy import array\n",
    "from numpy import hstack\n",
    "from keras.models import Model\n",
    "from keras.layers import Input\n",
    "from keras.layers import Dense\n",
    "from keras.layers.merge import concatenate\n",
    "# multivariate multi-step encoder-decoder lstm example\n",
    "from numpy import array\n",
    "from numpy import hstack\n",
    "from keras.models import Sequential\n",
    "from keras.layers import LSTM\n",
    "from keras.layers import Dense\n",
    "from keras.layers import RepeatVector\n",
    "from keras.layers import TimeDistributed\n",
    "n_features = 1 \n",
    "# split a multivariate sequence into samples\n",
    "def split_sequences(sequences, n_steps_in, n_steps_out):\n",
    "\tX, y = list(), list()\n",
    "\tfor i in range(len(sequences)):\n",
    "\t\t# find the end of this pattern\n",
    "\t\tend_ix = i + n_steps_in\n",
    "\t\tout_end_ix = end_ix + n_steps_out\n",
    "\t\t# check if we are beyond the dataset\n",
    "\t\tif out_end_ix > len(sequences):\n",
    "\t\t\tbreak\n",
    "\t\t# gather input and output parts of the pattern\n",
    "\t\tseq_x, seq_y = sequences[i:end_ix, :], sequences[end_ix:out_end_ix, :]\n",
    "\t\tX.append(seq_x)\n",
    "\t\ty.append(seq_y)\n",
    "\treturn array(X), array(y)\n",
    " \n",
    "# последовательность\n",
    "in_seq1 = X_leftt#[0:856]\n",
    "in_seq2 = X_rightt#[0:856]\n",
    "out_seq = Y_traint#[0:856] # array([in_seq1[i]+in_seq2[i] for i in range(len(in_seq1))])\n",
    "# конвертация в формат колонок и рядов\n",
    "in_seq1 = in_seq1.reshape((len(in_seq1),5,1,1))\n",
    "in_seq2 = in_seq2.reshape((len(in_seq2),5,1,1))\n",
    "out_seq = out_seq.reshape((len(out_seq),1,1,1))\n",
    "# горизонтальное последовательное размещение данных \n",
    "dataset = hstack((in_seq1, in_seq2, out_seq))\n",
    "# таймстепы\n",
    "n_steps_in, n_steps_out = 10, 1\n",
    "\n",
    "# convert into input/output\n",
    "X, y = split_sequences(dataset, n_steps_in, n_steps_out)\n",
    "# разделение данных \n",
    "X1 = X[:, :, 0]\n",
    "X2 = X[:, :, 1]\n",
    "# первая модель\n",
    "model.fit([X1, X2], Y_traint, epochs=20, verbose=1, batch_size=100, validation_split=0.1)\n",
    "# demonstrate prediction\n",
    "#x_input = array([[80, 85], [90, 95], [100, 105]])\n",
    "#x1 = x_input[:, 0].reshape((1, n_steps))\n",
    "#x2 = x_input[:, 1].reshape((1, n_steps))\n",
    "yhat = model.predict([X1, X2], verbose=0)\n",
    "print(yhat)"
   ]
  },
  {
   "cell_type": "code",
   "execution_count": null,
   "metadata": {},
   "outputs": [],
   "source": [
    "import pandas as pd\n",
    "\n",
    "df = pd.DataFrame(data={'year': datadd, \n",
    "                        'predict': yhat, \n",
    "                        'fact': Y_train})"
   ]
  },
  {
   "cell_type": "markdown",
   "metadata": {},
   "source": [
    "# AKSH_211"
   ]
  },
  {
   "cell_type": "code",
   "execution_count": 1114,
   "metadata": {},
   "outputs": [],
   "source": [
    "X_left = data[features_considered_north2]\n",
    "X_right = data[watervol]\n",
    "Y_train = data['AKSH_211_liq_vol']#,'AKSH_226_liq_vol'] \n",
    "\n",
    "\n",
    "X_leftl = X_left[(data.index < '2020-01-01')]\n",
    "X_rightl = X_right[(data.index < '2020-01-01')]\n",
    "Y_trainl = Y_train[(data.index < '2020-01-01')]#,'AKSH_226_liq_vol'] \n",
    "\n",
    "\n",
    "X_leftt = X_left[(data.index > '2020-01-01')]\n",
    "X_rightt = X_right[(data.index > '2020-01-01')]\n",
    "Y_traint = Y_train[(data.index > '2020-01-01')]#,'AKSH_226_liq_vol'] \n",
    "\n",
    "datadd = data.index\n",
    "datadt = datadd[(data.index > '2020-01-01')]"
   ]
  },
  {
   "cell_type": "code",
   "execution_count": 670,
   "metadata": {},
   "outputs": [
    {
     "data": {
      "text/html": [
       "<div>\n",
       "<style scoped>\n",
       "    .dataframe tbody tr th:only-of-type {\n",
       "        vertical-align: middle;\n",
       "    }\n",
       "\n",
       "    .dataframe tbody tr th {\n",
       "        vertical-align: top;\n",
       "    }\n",
       "\n",
       "    .dataframe thead th {\n",
       "        text-align: right;\n",
       "    }\n",
       "</style>\n",
       "<table border=\"1\" class=\"dataframe\">\n",
       "  <thead>\n",
       "    <tr style=\"text-align: right;\">\n",
       "      <th></th>\n",
       "      <th>AKSH_211_bhp_pump_press</th>\n",
       "      <th>AKSH_344_bhp_pump_press</th>\n",
       "      <th>AKSH_441_bhp_pump_press</th>\n",
       "      <th>AKSH_244_bhp_pump_press</th>\n",
       "      <th>AKSH_228_bhp_pump_press</th>\n",
       "    </tr>\n",
       "    <tr>\n",
       "      <th>date</th>\n",
       "      <th></th>\n",
       "      <th></th>\n",
       "      <th></th>\n",
       "      <th></th>\n",
       "      <th></th>\n",
       "    </tr>\n",
       "  </thead>\n",
       "  <tbody>\n",
       "    <tr>\n",
       "      <th>2017-01-01</th>\n",
       "      <td>0.000</td>\n",
       "      <td>0.000</td>\n",
       "      <td>0.000</td>\n",
       "      <td>0.00</td>\n",
       "      <td>0.000</td>\n",
       "    </tr>\n",
       "    <tr>\n",
       "      <th>2017-01-02</th>\n",
       "      <td>0.000</td>\n",
       "      <td>0.000</td>\n",
       "      <td>0.000</td>\n",
       "      <td>0.00</td>\n",
       "      <td>0.000</td>\n",
       "    </tr>\n",
       "    <tr>\n",
       "      <th>2017-01-03</th>\n",
       "      <td>0.000</td>\n",
       "      <td>0.000</td>\n",
       "      <td>0.000</td>\n",
       "      <td>0.00</td>\n",
       "      <td>0.000</td>\n",
       "    </tr>\n",
       "    <tr>\n",
       "      <th>2017-01-04</th>\n",
       "      <td>0.000</td>\n",
       "      <td>0.000</td>\n",
       "      <td>0.000</td>\n",
       "      <td>0.00</td>\n",
       "      <td>0.000</td>\n",
       "    </tr>\n",
       "    <tr>\n",
       "      <th>2017-01-05</th>\n",
       "      <td>0.000</td>\n",
       "      <td>0.000</td>\n",
       "      <td>0.000</td>\n",
       "      <td>0.00</td>\n",
       "      <td>0.000</td>\n",
       "    </tr>\n",
       "    <tr>\n",
       "      <th>...</th>\n",
       "      <td>...</td>\n",
       "      <td>...</td>\n",
       "      <td>...</td>\n",
       "      <td>...</td>\n",
       "      <td>...</td>\n",
       "    </tr>\n",
       "    <tr>\n",
       "      <th>2019-12-27</th>\n",
       "      <td>26.533</td>\n",
       "      <td>36.297</td>\n",
       "      <td>31.844</td>\n",
       "      <td>52.84</td>\n",
       "      <td>64.404</td>\n",
       "    </tr>\n",
       "    <tr>\n",
       "      <th>2019-12-28</th>\n",
       "      <td>25.533</td>\n",
       "      <td>36.297</td>\n",
       "      <td>31.844</td>\n",
       "      <td>53.00</td>\n",
       "      <td>64.404</td>\n",
       "    </tr>\n",
       "    <tr>\n",
       "      <th>2019-12-29</th>\n",
       "      <td>25.533</td>\n",
       "      <td>35.297</td>\n",
       "      <td>31.844</td>\n",
       "      <td>54.00</td>\n",
       "      <td>64.404</td>\n",
       "    </tr>\n",
       "    <tr>\n",
       "      <th>2019-12-30</th>\n",
       "      <td>25.533</td>\n",
       "      <td>35.297</td>\n",
       "      <td>32.844</td>\n",
       "      <td>54.00</td>\n",
       "      <td>64.404</td>\n",
       "    </tr>\n",
       "    <tr>\n",
       "      <th>2019-12-31</th>\n",
       "      <td>25.533</td>\n",
       "      <td>36.297</td>\n",
       "      <td>32.844</td>\n",
       "      <td>54.00</td>\n",
       "      <td>64.404</td>\n",
       "    </tr>\n",
       "  </tbody>\n",
       "</table>\n",
       "<p>1095 rows × 5 columns</p>\n",
       "</div>"
      ],
      "text/plain": [
       "            AKSH_211_bhp_pump_press  AKSH_344_bhp_pump_press  \\\n",
       "date                                                           \n",
       "2017-01-01                    0.000                    0.000   \n",
       "2017-01-02                    0.000                    0.000   \n",
       "2017-01-03                    0.000                    0.000   \n",
       "2017-01-04                    0.000                    0.000   \n",
       "2017-01-05                    0.000                    0.000   \n",
       "...                             ...                      ...   \n",
       "2019-12-27                   26.533                   36.297   \n",
       "2019-12-28                   25.533                   36.297   \n",
       "2019-12-29                   25.533                   35.297   \n",
       "2019-12-30                   25.533                   35.297   \n",
       "2019-12-31                   25.533                   36.297   \n",
       "\n",
       "            AKSH_441_bhp_pump_press  AKSH_244_bhp_pump_press  \\\n",
       "date                                                           \n",
       "2017-01-01                    0.000                     0.00   \n",
       "2017-01-02                    0.000                     0.00   \n",
       "2017-01-03                    0.000                     0.00   \n",
       "2017-01-04                    0.000                     0.00   \n",
       "2017-01-05                    0.000                     0.00   \n",
       "...                             ...                      ...   \n",
       "2019-12-27                   31.844                    52.84   \n",
       "2019-12-28                   31.844                    53.00   \n",
       "2019-12-29                   31.844                    54.00   \n",
       "2019-12-30                   32.844                    54.00   \n",
       "2019-12-31                   32.844                    54.00   \n",
       "\n",
       "            AKSH_228_bhp_pump_press  \n",
       "date                                 \n",
       "2017-01-01                    0.000  \n",
       "2017-01-02                    0.000  \n",
       "2017-01-03                    0.000  \n",
       "2017-01-04                    0.000  \n",
       "2017-01-05                    0.000  \n",
       "...                             ...  \n",
       "2019-12-27                   64.404  \n",
       "2019-12-28                   64.404  \n",
       "2019-12-29                   64.404  \n",
       "2019-12-30                   64.404  \n",
       "2019-12-31                   64.404  \n",
       "\n",
       "[1095 rows x 5 columns]"
      ]
     },
     "execution_count": 670,
     "metadata": {},
     "output_type": "execute_result"
    }
   ],
   "source": [
    "X_leftl "
   ]
  },
  {
   "cell_type": "code",
   "execution_count": 1115,
   "metadata": {},
   "outputs": [],
   "source": [
    "X_left = np.asarray(X_left)\n",
    "X_right = np.asarray(X_right) \n",
    "Y_train = np.asarray(Y_train)\n",
    "X_leftl = np.asarray(X_leftl)\n",
    "X_rightl = np.asarray(X_rightl) \n",
    "Y_trainl = np.asarray(Y_trainl)\n",
    "X_leftt = np.asarray(X_leftt)\n",
    "X_rightt = np.asarray(X_rightt) \n",
    "Y_traint = np.asarray(Y_traint)"
   ]
  },
  {
   "cell_type": "code",
   "execution_count": 552,
   "metadata": {},
   "outputs": [],
   "source": [
    "yhatt = yhatt.flatten() \n",
    "Y_traint = Y_traint.flatten()"
   ]
  },
  {
   "cell_type": "code",
   "execution_count": 553,
   "metadata": {},
   "outputs": [
    {
     "data": {
      "text/plain": [
       "(1081,)"
      ]
     },
     "execution_count": 553,
     "metadata": {},
     "output_type": "execute_result"
    }
   ],
   "source": [
    "yhatt.shape\n",
    "\n",
    "\n"
   ]
  },
  {
   "cell_type": "code",
   "execution_count": 478,
   "metadata": {},
   "outputs": [
    {
     "data": {
      "text/plain": [
       "(1217,)"
      ]
     },
     "execution_count": 478,
     "metadata": {},
     "output_type": "execute_result"
    }
   ],
   "source": [
    "yhatt.shape"
   ]
  },
  {
   "cell_type": "code",
   "execution_count": 502,
   "metadata": {},
   "outputs": [],
   "source": [
    "import pandas as pd\n",
    "\n",
    "df = pd.DataFrame(data={'year': datadt, \n",
    "                        'predict': yhatt, \n",
    "                        'fact': Y_traint})"
   ]
  },
  {
   "cell_type": "code",
   "execution_count": 674,
   "metadata": {},
   "outputs": [
    {
     "name": "stdout",
     "output_type": "stream",
     "text": [
      "[[37.143497]\n",
      " [37.079445]\n",
      " [37.517982]\n",
      " [37.24287 ]\n",
      " [37.895935]\n",
      " [37.66397 ]\n",
      " [37.710598]\n",
      " [38.13866 ]\n",
      " [38.569077]\n",
      " [38.06173 ]\n",
      " [38.2402  ]\n",
      " [37.940655]\n",
      " [37.578724]\n",
      " [37.547863]\n",
      " [37.41484 ]\n",
      " [37.595833]\n",
      " [37.02039 ]\n",
      " [37.34222 ]\n",
      " [36.690517]\n",
      " [37.239815]\n",
      " [36.33244 ]\n",
      " [37.067287]\n",
      " [36.830307]\n",
      " [36.944412]\n",
      " [37.162766]\n",
      " [36.71179 ]\n",
      " [36.60621 ]\n",
      " [36.43983 ]\n",
      " [36.4055  ]\n",
      " [36.54775 ]\n",
      " [36.638157]\n",
      " [36.002483]\n",
      " [36.027576]\n",
      " [36.15391 ]\n",
      " [36.18334 ]\n",
      " [35.8681  ]\n",
      " [36.098984]\n",
      " [36.507572]\n",
      " [36.37727 ]\n",
      " [35.90348 ]\n",
      " [36.514477]\n",
      " [37.226078]\n",
      " [36.619602]\n",
      " [36.614685]\n",
      " [36.565254]\n",
      " [37.21994 ]\n",
      " [36.81789 ]\n",
      " [37.35328 ]\n",
      " [36.99195 ]\n",
      " [37.45586 ]\n",
      " [37.313343]\n",
      " [37.173508]\n",
      " [37.160522]\n",
      " [36.91699 ]\n",
      " [36.78371 ]\n",
      " [36.56895 ]\n",
      " [42.199383]\n",
      " [47.281406]\n",
      " [42.964912]\n",
      " [41.103565]\n",
      " [37.47759 ]\n",
      " [38.32614 ]\n",
      " [38.76914 ]\n",
      " [39.106922]\n",
      " [33.36341 ]\n",
      " [36.891388]\n",
      " [34.753433]\n",
      " [36.80334 ]\n",
      " [36.249413]\n",
      " [38.18979 ]\n",
      " [37.732933]\n",
      " [36.15343 ]\n",
      " [36.225647]\n",
      " [35.76413 ]\n",
      " [36.33802 ]\n",
      " [35.797657]\n",
      " [36.52455 ]\n",
      " [35.74852 ]\n",
      " [36.49113 ]\n",
      " [36.434784]\n",
      " [36.000614]\n",
      " [36.380047]\n",
      " [36.165325]\n",
      " [35.966522]\n",
      " [35.635593]\n",
      " [35.58862 ]\n",
      " [35.386555]\n",
      " [35.46482 ]\n",
      " [35.394196]\n",
      " [34.71244 ]\n",
      " [34.992702]\n",
      " [34.934944]\n",
      " [35.15509 ]\n",
      " [35.095226]\n",
      " [35.264267]\n",
      " [35.36568 ]\n",
      " [35.33563 ]\n",
      " [35.46061 ]\n",
      " [34.889046]\n",
      " [34.708614]\n",
      " [34.863857]\n",
      " [34.369118]\n",
      " [34.857872]\n",
      " [34.110855]\n",
      " [34.366074]\n",
      " [34.490086]\n",
      " [35.026237]\n",
      " [35.172   ]\n",
      " [34.92011 ]\n",
      " [35.114487]\n",
      " [35.459766]\n",
      " [35.06599 ]\n",
      " [35.325676]\n",
      " [34.933956]\n",
      " [35.695065]\n",
      " [35.273144]\n",
      " [35.242374]\n",
      " [35.255726]\n",
      " [35.763023]\n",
      " [36.08978 ]\n",
      " [36.025326]]\n"
     ]
    }
   ],
   "source": [
    "# multivariate mlp example\n",
    "from numpy import array\n",
    "from numpy import hstack\n",
    "from keras.models import Model\n",
    "from keras.layers import Input\n",
    "from keras.layers import Dense\n",
    "from keras.layers.merge import concatenate\n",
    " \n",
    "# сэмлы\n",
    "def split_sequences(sequences, n_steps):\n",
    "\tX, y = list(), list()\n",
    "\tfor i in range(len(sequences)):\n",
    "\t\t# разметка\n",
    "\t\tend_ix = i + n_steps\n",
    "\t\t# проверка выхода за пределы\n",
    "\t\tif end_ix > len(sequences):\n",
    "\t\t\tbreak\n",
    "\t\t# получение начала и конечной метки\n",
    "\t\tseq_x, seq_y = sequences[i:end_ix, :-1], sequences[end_ix-1, -1]\n",
    "\t\tX.append(seq_x)\n",
    "\t\ty.append(seq_y)\n",
    "\treturn array(X), array(y)\n",
    " \n",
    "# последовательность\n",
    "in_seq1 = X_leftt\n",
    "in_seq2 = X_rightt\n",
    "\n",
    "out_seq = Y_traint #array([in_seq1[i]+in_seq2[i] for i in range(len(in_seq1))])\n",
    "# конвертация в формат колонок и рядов\n",
    "in_seq1 = in_seq1.reshape((len(in_seq1), 5))\n",
    "in_seq2 = in_seq2.reshape((len(in_seq2), 5))\n",
    "out_seq = out_seq.reshape((len(out_seq), 1))\n",
    "# горизонтальное последовательное размещение данных \n",
    "dataset = hstack((in_seq1, in_seq2, out_seq))\n",
    "# таймстепы\n",
    "n_steps = 15\n",
    "# convert into input/output\n",
    "X,y = split_sequences(dataset, n_steps)\n",
    "#y = \n",
    "# разделение данных \n",
    "X1 = X[:, :, 0]\n",
    "X2 = X[:, :, 1]\n",
    "\n",
    "yhatt = model.predict([X1, X2], verbose=0)\n",
    "print(yhatt)"
   ]
  },
  {
   "cell_type": "code",
   "execution_count": 974,
   "metadata": {},
   "outputs": [
    {
     "name": "stdout",
     "output_type": "stream",
     "text": [
      "[[35.792664]\n",
      " [35.547142]\n",
      " [35.203518]\n",
      " [36.14018 ]\n",
      " [36.401875]\n",
      " [34.898148]\n",
      " [35.8378  ]\n",
      " [36.075634]\n",
      " [36.389362]\n",
      " [36.18721 ]\n",
      " [37.66914 ]\n",
      " [36.723717]\n",
      " [36.65584 ]\n",
      " [36.51068 ]\n",
      " [36.31183 ]\n",
      " [36.39083 ]\n",
      " [36.181168]\n",
      " [36.06397 ]\n",
      " [34.987705]\n",
      " [35.824265]\n",
      " [34.093704]\n",
      " [35.201202]\n",
      " [34.981213]\n",
      " [35.168766]\n",
      " [35.651577]\n",
      " [34.66083 ]\n",
      " [34.21683 ]\n",
      " [34.82777 ]\n",
      " [35.41364 ]\n",
      " [34.611908]\n",
      " [34.5657  ]\n",
      " [33.54627 ]\n",
      " [34.84261 ]\n",
      " [33.557247]\n",
      " [33.139347]\n",
      " [33.56369 ]\n",
      " [34.9617  ]\n",
      " [34.635166]\n",
      " [35.57607 ]\n",
      " [34.558372]\n",
      " [35.508816]\n",
      " [35.161926]\n",
      " [34.496586]\n",
      " [34.607327]\n",
      " [35.344105]\n",
      " [34.81727 ]\n",
      " [34.914845]\n",
      " [36.092205]\n",
      " [36.263836]\n",
      " [36.629803]\n",
      " [36.330956]\n",
      " [36.736908]\n",
      " [36.174297]\n",
      " [35.75979 ]\n",
      " [36.186222]\n",
      " [36.415413]\n",
      " [40.403652]\n",
      " [40.762054]\n",
      " [38.321808]\n",
      " [38.693733]\n",
      " [34.571877]\n",
      " [36.751015]\n",
      " [38.02498 ]\n",
      " [36.757122]\n",
      " [36.848022]\n",
      " [34.575176]\n",
      " [32.021904]\n",
      " [31.358833]\n",
      " [32.531597]\n",
      " [31.068787]\n",
      " [35.85    ]\n",
      " [37.204597]\n",
      " [34.31514 ]\n",
      " [34.459038]\n",
      " [34.375816]\n",
      " [33.63304 ]\n",
      " [34.519848]\n",
      " [34.501133]\n",
      " [35.39057 ]\n",
      " [35.119995]\n",
      " [34.5614  ]\n",
      " [35.049255]\n",
      " [35.926434]\n",
      " [34.860428]\n",
      " [33.994514]\n",
      " [35.140457]\n",
      " [35.0789  ]\n",
      " [34.39727 ]\n",
      " [33.546295]\n",
      " [34.336533]\n",
      " [33.811817]\n",
      " [33.246117]\n",
      " [33.38703 ]\n",
      " [33.542896]\n",
      " [33.965294]\n",
      " [33.711323]\n",
      " [33.55734 ]\n",
      " [34.09229 ]\n",
      " [34.50797 ]\n",
      " [35.635315]\n",
      " [35.357883]\n",
      " [35.761833]\n",
      " [35.580345]\n",
      " [34.86967 ]\n",
      " [33.204033]\n",
      " [33.137966]\n",
      " [32.98884 ]\n",
      " [33.478283]\n",
      " [33.879353]\n",
      " [34.041855]\n",
      " [34.54426 ]\n",
      " [34.75816 ]\n",
      " [34.41687 ]\n",
      " [35.405247]\n",
      " [34.779213]\n",
      " [33.657394]\n",
      " [33.486465]\n",
      " [34.477684]\n",
      " [34.222717]\n",
      " [34.89065 ]\n",
      " [34.765022]]\n"
     ]
    }
   ],
   "source": [
    "# multivariate mlp example\n",
    "from numpy import array\n",
    "from numpy import hstack\n",
    "from keras.models import Model\n",
    "from keras.layers import Input\n",
    "from keras.layers import Dense\n",
    "from keras.layers.merge import concatenate\n",
    " \n",
    "# сэмлы\n",
    "def split_sequences(sequences, n_steps):\n",
    "\tX, y = list(), list()\n",
    "\tfor i in range(len(sequences)):\n",
    "\t\t# разметка\n",
    "\t\tend_ix = i + n_steps\n",
    "\t\t# проверка выхода за пределы\n",
    "\t\tif end_ix > len(sequences):\n",
    "\t\t\tbreak\n",
    "\t\t# получение начала и конечной метки\n",
    "\t\tseq_x, seq_y = sequences[i:end_ix, :-1], sequences[end_ix-1, -1]\n",
    "\t\tX.append(seq_x)\n",
    "\t\ty.append(seq_y)\n",
    "\treturn array(X), array(y)\n",
    " \n",
    "# последовательность\n",
    "in_seq1 = X_leftt\n",
    "in_seq2 = X_rightt\n",
    "\n",
    "out_seq = Y_traint #array([in_seq1[i]+in_seq2[i] for i in range(len(in_seq1))])\n",
    "# конвертация в формат колонок и рядов\n",
    "in_seq1 = in_seq1.reshape((len(in_seq1), 5))\n",
    "in_seq2 = in_seq2.reshape((len(in_seq2), 5))\n",
    "out_seq = out_seq.reshape((len(out_seq), 1))\n",
    "# горизонтальное последовательное размещение данных \n",
    "dataset = hstack((in_seq1, in_seq2, out_seq))\n",
    "# таймстепы\n",
    "n_steps = 15\n",
    "# convert into input/output\n",
    "X,y = split_sequences(dataset, n_steps)\n",
    "#y = \n",
    "# разделение данных \n",
    "X1 = X[:, :, 0]\n",
    "X2 = X[:, :, 1]\n",
    "\n",
    "yhatt = model.predict([X1, X2], verbose=0)\n",
    "print(yhatt)"
   ]
  },
  {
   "cell_type": "code",
   "execution_count": 975,
   "metadata": {},
   "outputs": [],
   "source": [
    "yhatt = yhatt.flatten() \n",
    "Y_traint = Y_traint.flatten()"
   ]
  },
  {
   "cell_type": "code",
   "execution_count": 976,
   "metadata": {},
   "outputs": [],
   "source": [
    "datadt = datadt[0:121]"
   ]
  },
  {
   "cell_type": "code",
   "execution_count": 977,
   "metadata": {},
   "outputs": [],
   "source": [
    "Y_traint = Y_train[0:121]"
   ]
  },
  {
   "cell_type": "code",
   "execution_count": null,
   "metadata": {},
   "outputs": [],
   "source": []
  },
  {
   "cell_type": "code",
   "execution_count": 978,
   "metadata": {},
   "outputs": [],
   "source": [
    "\n",
    "import pandas as pd\n",
    "\n",
    "df = pd.DataFrame(data={'year': datadt, \n",
    "                        'predict': yhatt, \n",
    "                        'fact': Y_traint})"
   ]
  },
  {
   "cell_type": "code",
   "execution_count": 979,
   "metadata": {},
   "outputs": [
    {
     "data": {
      "text/plain": [
       "<AxesSubplot:label='f862b653-53f5-4bc3-9e68-3c30794bab7c'>"
      ]
     },
     "execution_count": 979,
     "metadata": {},
     "output_type": "execute_result"
    },
    {
     "data": {
      "image/png": "[encoded data removed]",
      "text/plain": [
       "<Figure size 1224x360 with 2 Axes>"
      ]
     },
     "metadata": {},
     "output_type": "display_data"
    }
   ],
   "source": [
    "import matplotlib.pyplot as plt # Impot the relevant module\n",
    "\n",
    "fig, ax = plt.subplots() # Create the figure and axes object\n",
    "\n",
    "# Plot the first x and y axes:\n",
    "df.plot(x = 'year', y = 'predict',title = \"AKSH_211\", ax = ax) \n",
    "# Plot the second x and y axes. By secondary_y = True a second y-axis is requested:\n",
    "# (see https://pandas.pydata.org/pandas-docs/stable/reference/api/pandas.DataFrame.plot.html for details)\n",
    "df.plot(x = 'year', y = 'fact', ax = ax, secondary_y = True)"
   ]
  },
  {
   "cell_type": "code",
   "execution_count": 980,
   "metadata": {},
   "outputs": [
    {
     "data": {
      "text/plain": [
       "-2.300754845140294"
      ]
     },
     "execution_count": 980,
     "metadata": {},
     "output_type": "execute_result"
    }
   ],
   "source": [
    "from sklearn.metrics import r2_score\n",
    "r2_score(Y_traint, yhatt)\n"
   ]
  },
  {
   "cell_type": "code",
   "execution_count": 982,
   "metadata": {},
   "outputs": [],
   "source": [
    "def line_plot(line2, line1, label1=None, label2=None, title='', lw=2):\n",
    "    fig, ax = plt.subplots(1, figsize=(16, 9))\n",
    "    ax.plot(line1, label=label1, linewidth=lw)\n",
    "    ax.plot(line2, label=label2, linewidth=lw)\n",
    "    \n",
    "    ax.set_ylabel('liqvol', fontsize=14)\n",
    "    ax.set_title(title, fontsize=18)\n",
    "    ax.legend(loc='best', fontsize=18);"
   ]
  },
  {
   "cell_type": "code",
   "execution_count": 983,
   "metadata": {},
   "outputs": [
    {
     "data": {
      "image/png": "[encoded data removed]",
      "text/plain": [
       "<Figure size 1152x648 with 1 Axes>"
      ]
     },
     "metadata": {},
     "output_type": "display_data"
    }
   ],
   "source": [
    "line_plot(Y_traint, yhatt,'fact','predict',  title='data')"
   ]
  },
  {
   "cell_type": "code",
   "execution_count": 984,
   "metadata": {},
   "outputs": [
    {
     "data": {
      "text/plain": [
       "40.38883386962975"
      ]
     },
     "execution_count": 984,
     "metadata": {},
     "output_type": "execute_result"
    }
   ],
   "source": [
    "from sklearn.metrics import mean_squared_error\n",
    "mean_squared_error(Y_traint, yhatt)"
   ]
  },
  {
   "cell_type": "code",
   "execution_count": 693,
   "metadata": {},
   "outputs": [
    {
     "name": "stdout",
     "output_type": "stream",
     "text": [
      "32.759677463481545\n"
     ]
    }
   ],
   "source": [
    "print(mean_absolute_percentage_error(Y_traint, yhatt))"
   ]
  },
  {
   "cell_type": "code",
   "execution_count": null,
   "metadata": {},
   "outputs": [],
   "source": []
  }
 ],
 "metadata": {
  "kernelspec": {
   "display_name": "Python 3",
   "language": "python",
   "name": "python3"
  },
  "language_info": {
   "codemirror_mode": {
    "name": "ipython",
    "version": 3
   },
   "file_extension": ".py",
   "mimetype": "text/x-python",
   "name": "python",
   "nbconvert_exporter": "python",
   "pygments_lexer": "ipython3",
   "version": "3.9.4"
  }
 },
 "nbformat": 4,
 "nbformat_minor": 4
}
